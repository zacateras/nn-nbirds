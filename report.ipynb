{
 "cells": [
  {
   "cell_type": "markdown",
   "metadata": {},
   "source": [
    "### 1. Dataset\n",
    "\n",
    "![](assets/dataset.png)"
   ]
  },
  {
   "cell_type": "code",
   "execution_count": 30,
   "metadata": {},
   "outputs": [],
   "source": [
    "import pandas as pd\n",
    "import re\n",
    "\n",
    "ds_meta_files = ['bounding_boxes', 'classes', 'hierarchy', 'image_class_labels', 'images', 'photographers', 'sizes']\n",
    "ds_meta = {}\n",
    "\n",
    "for ds_meta_file in ds_meta_files:\n",
    "    with open ('data/%s.txt' % ds_meta_file, 'r' ) as f:\n",
    "        content = f.read()\n",
    "        \n",
    "    # TODO\n",
    "    # content = re.sub('\\ ([^\\ ]+)(\\ (.*))+(\\n|\\Z)', r'\\ \\1\\2\\3', content, flags = re.M)\n",
    "    content = re.sub('\\ (.*)(\\n|\\Z)', r'|\\1\\2', content, flags = re.M)\n",
    "    \n",
    "    with open ('data/%s.csv' % ds_meta_file, 'w') as f:\n",
    "        f.write(content)\n",
    "    \n",
    "    ds_meta[ds_meta_file] = pd.read_csv('data/%s.csv' % ds_meta_file, header=None, sep='|')"
   ]
  },
  {
   "cell_type": "code",
   "execution_count": 28,
   "metadata": {},
   "outputs": [
    {
     "name": "stdout",
     "output_type": "stream",
     "text": [
      "Quantity of bounding_boxes: 48562\n",
      "Quantity of classes: 1011\n",
      "Quantity of hierarchy: 1010\n",
      "Quantity of image_class_labels: 48562\n",
      "Quantity of images: 48562\n",
      "Quantity of photographers: 48562\n",
      "Quantity of sizes: 48562\n"
     ]
    }
   ],
   "source": [
    "for ds_meta_item in ds_meta:\n",
    "    print('Quantity of %s: %s' % (ds_meta_item, ds_meta[ds_meta_item].count()[0]))"
   ]
  },
  {
   "cell_type": "markdown",
   "metadata": {},
   "source": [
    "### X. References\n",
    "\n",
    "* BSIF http://www.ee.oulu.fi/~jkannala/bsif/bsif.pdf"
   ]
  },
  {
   "cell_type": "code",
   "execution_count": null,
   "metadata": {},
   "outputs": [],
   "source": []
  }
 ],
 "metadata": {
  "kernelspec": {
   "display_name": "Python 3",
   "language": "python",
   "name": "python3"
  },
  "language_info": {
   "codemirror_mode": {
    "name": "ipython",
    "version": 3
   },
   "file_extension": ".py",
   "mimetype": "text/x-python",
   "name": "python",
   "nbconvert_exporter": "python",
   "pygments_lexer": "ipython3",
   "version": "3.6.4"
  }
 },
 "nbformat": 4,
 "nbformat_minor": 2
}
