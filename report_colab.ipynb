{
  "nbformat": 4,
  "nbformat_minor": 0,
  "metadata": {
    "colab": {
      "name": "nn-nbirds.ipynb",
      "version": "0.3.2",
      "provenance": [],
      "collapsed_sections": []
    },
    "kernelspec": {
      "name": "python3",
      "display_name": "Python 3"
    },
    "accelerator": "GPU"
  },
  "cells": [
    {
      "cell_type": "markdown",
      "metadata": {
        "id": "view-in-github",
        "colab_type": "text"
      },
      "source": [
        "[View in Colaboratory](https://colab.research.google.com/github/zacateras/nn-nbirds/blob/master/report_colab.ipynb)"
      ]
    },
    {
      "metadata": {
        "id": "UvFrie12LmWO",
        "colab_type": "code",
        "colab": {
          "base_uri": "https://localhost:8080/",
          "height": 35
        },
        "outputId": "0705bdf8-091f-4dc4-ec39-0ba4c9257574"
      },
      "cell_type": "code",
      "source": [
        "# If python3 is not loaded kill the hypervisor\n",
        "# ! kill -9 -1\n",
        "import sys\n",
        "sys.version"
      ],
      "execution_count": 1,
      "outputs": [
        {
          "output_type": "execute_result",
          "data": {
            "text/plain": [
              "'3.6.3 (default, Oct  3 2017, 21:45:48) \\n[GCC 7.2.0]'"
            ]
          },
          "metadata": {
            "tags": []
          },
          "execution_count": 1
        }
      ]
    },
    {
      "metadata": {
        "id": "Wb6yct3-XdMd",
        "colab_type": "code",
        "colab": {
          "base_uri": "https://localhost:8080/",
          "height": 1781
        },
        "outputId": "0df40d3d-ba56-4d23-c92b-3d91caa8a338"
      },
      "cell_type": "code",
      "source": [
        "% cd ~\n",
        "\n",
        "# Remove the environment\n",
        "! if [ -d \"nn-nbirds\" ]; then rm -rf \"nn-nbirds\"; fi\n",
        "# ! pip freeze | xargs pip uninstall -y\n",
        "\n",
        "# Build the environment \n",
        "! git clone https://github.com/zacateras/nn-nbirds.git\n",
        "% cd ./nn-nbirds\n",
        "! pip install -r requirements.txt\n",
        "# Those below fixes the issue with keras @ Colab\n",
        "! pip install Pillow==4.0.0\n",
        "! pip install PIL\n",
        "! pip install image"
      ],
      "execution_count": 49,
      "outputs": [
        {
          "output_type": "stream",
          "text": [
            "/content\n",
            "Cloning into 'nn-nbirds'...\n",
            "remote: Counting objects: 78, done.\u001b[K\n",
            "remote: Compressing objects: 100% (55/55), done.\u001b[K\n",
            "remote: Total 78 (delta 36), reused 58 (delta 20), pack-reused 0\u001b[K\n",
            "Unpacking objects: 100% (78/78), done.\n",
            "/content/nn-nbirds\n",
            "Looking in indexes: https://pypi.org/simple, https://legacy.pypi.org/simple\n",
            "Requirement already satisfied: absl-py==0.2.0 in /usr/local/lib/python3.6/dist-packages (from -r requirements.txt (line 1)) (0.2.0)\n",
            "Requirement already satisfied: appnope==0.1.0 in /usr/local/lib/python3.6/dist-packages (from -r requirements.txt (line 2)) (0.1.0)\n",
            "Requirement already satisfied: astor==0.6.2 in /usr/local/lib/python3.6/dist-packages (from -r requirements.txt (line 3)) (0.6.2)\n",
            "Requirement already satisfied: backcall==0.1.0 in /usr/local/lib/python3.6/dist-packages (from -r requirements.txt (line 4)) (0.1.0)\n",
            "Requirement already satisfied: bleach==1.5.0 in /usr/local/lib/python3.6/dist-packages (from -r requirements.txt (line 5)) (1.5.0)\n",
            "Requirement already satisfied: decorator==4.3.0 in /usr/local/lib/python3.6/dist-packages (from -r requirements.txt (line 6)) (4.3.0)\n",
            "Requirement already satisfied: entrypoints==0.2.3 in /usr/local/lib/python3.6/dist-packages (from -r requirements.txt (line 7)) (0.2.3)\n",
            "Requirement already satisfied: gast==0.2.0 in /usr/local/lib/python3.6/dist-packages (from -r requirements.txt (line 8)) (0.2.0)\n",
            "Requirement already satisfied: graphviz==0.8.2 in /usr/local/lib/python3.6/dist-packages (from -r requirements.txt (line 9)) (0.8.2)\n",
            "Requirement already satisfied: grpcio==1.11.0 in /usr/local/lib/python3.6/dist-packages (from -r requirements.txt (line 10)) (1.11.0)\n",
            "Requirement already satisfied: h5py==2.7.1 in /usr/local/lib/python3.6/dist-packages (from -r requirements.txt (line 11)) (2.7.1)\n",
            "Requirement already satisfied: html5lib==0.9999999 in /usr/local/lib/python3.6/dist-packages (from -r requirements.txt (line 12)) (0.9999999)\n",
            "Requirement already satisfied: ipykernel==4.8.2 in /usr/local/lib/python3.6/dist-packages (from -r requirements.txt (line 13)) (4.8.2)\n",
            "Requirement already satisfied: ipython==6.3.1 in /usr/local/lib/python3.6/dist-packages (from -r requirements.txt (line 14)) (6.3.1)\n",
            "Requirement already satisfied: ipython-genutils==0.2.0 in /usr/local/lib/python3.6/dist-packages (from -r requirements.txt (line 15)) (0.2.0)\n",
            "Requirement already satisfied: ipywidgets==7.2.1 in /usr/local/lib/python3.6/dist-packages (from -r requirements.txt (line 16)) (7.2.1)\n",
            "Requirement already satisfied: jedi==0.12.0 in /usr/local/lib/python3.6/dist-packages (from -r requirements.txt (line 17)) (0.12.0)\n",
            "Requirement already satisfied: Jinja2==2.10 in /usr/local/lib/python3.6/dist-packages (from -r requirements.txt (line 18)) (2.10)\n",
            "Requirement already satisfied: jsonschema==2.6.0 in /usr/local/lib/python3.6/dist-packages (from -r requirements.txt (line 19)) (2.6.0)\n",
            "Requirement already satisfied: jupyter==1.0.0 in /usr/local/lib/python3.6/dist-packages (from -r requirements.txt (line 20)) (1.0.0)\n",
            "Requirement already satisfied: jupyter-client==5.2.3 in /usr/local/lib/python3.6/dist-packages (from -r requirements.txt (line 21)) (5.2.3)\n",
            "Requirement already satisfied: jupyter-console==5.2.0 in /usr/local/lib/python3.6/dist-packages (from -r requirements.txt (line 22)) (5.2.0)\n",
            "Requirement already satisfied: jupyter-core==4.4.0 in /usr/local/lib/python3.6/dist-packages (from -r requirements.txt (line 23)) (4.4.0)\n",
            "Requirement already satisfied: Keras==2.1.5 in /usr/local/lib/python3.6/dist-packages (from -r requirements.txt (line 24)) (2.1.5)\n",
            "Requirement already satisfied: Markdown==2.6.11 in /usr/local/lib/python3.6/dist-packages (from -r requirements.txt (line 25)) (2.6.11)\n",
            "Requirement already satisfied: MarkupSafe==1.0 in /usr/local/lib/python3.6/dist-packages (from -r requirements.txt (line 26)) (1.0)\n",
            "Requirement already satisfied: mistune==0.8.3 in /usr/local/lib/python3.6/dist-packages (from -r requirements.txt (line 27)) (0.8.3)\n",
            "Requirement already satisfied: nbconvert==5.3.1 in /usr/local/lib/python3.6/dist-packages (from -r requirements.txt (line 28)) (5.3.1)\n",
            "Requirement already satisfied: nbformat==4.4.0 in /usr/local/lib/python3.6/dist-packages (from -r requirements.txt (line 29)) (4.4.0)\n",
            "Requirement already satisfied: notebook==5.4.1 in /usr/local/lib/python3.6/dist-packages (from -r requirements.txt (line 30)) (5.4.1)\n",
            "Requirement already satisfied: numpy==1.14.2 in /usr/local/lib/python3.6/dist-packages (from -r requirements.txt (line 31)) (1.14.2)\n",
            "Requirement already satisfied: opencv-python==3.4.0.12 in /usr/local/lib/python3.6/dist-packages (from -r requirements.txt (line 32)) (3.4.0.12)\n",
            "Requirement already satisfied: pandas==0.22.0 in /usr/local/lib/python3.6/dist-packages (from -r requirements.txt (line 33)) (0.22.0)\n",
            "Requirement already satisfied: pandocfilters==1.4.2 in /usr/local/lib/python3.6/dist-packages (from -r requirements.txt (line 34)) (1.4.2)\n",
            "Requirement already satisfied: parso==0.2.0 in /usr/local/lib/python3.6/dist-packages (from -r requirements.txt (line 35)) (0.2.0)\n",
            "Requirement already satisfied: pexpect==4.5.0 in /usr/local/lib/python3.6/dist-packages (from -r requirements.txt (line 36)) (4.5.0)\n",
            "Requirement already satisfied: pickleshare==0.7.4 in /usr/local/lib/python3.6/dist-packages (from -r requirements.txt (line 37)) (0.7.4)\n",
            "Collecting Pillow==5.1.0 (from -r requirements.txt (line 38))\n",
            "  Using cached https://files.pythonhosted.org/packages/5f/4b/8b54ab9d37b93998c81b364557dff9f61972c0f650efa0ceaf470b392740/Pillow-5.1.0-cp36-cp36m-manylinux1_x86_64.whl\n",
            "Requirement already satisfied: prompt-toolkit==1.0.15 in /usr/local/lib/python3.6/dist-packages (from -r requirements.txt (line 39)) (1.0.15)\n",
            "Requirement already satisfied: protobuf==3.5.2.post1 in /usr/local/lib/python3.6/dist-packages (from -r requirements.txt (line 40)) (3.5.2.post1)\n",
            "Requirement already satisfied: ptyprocess==0.5.2 in /usr/local/lib/python3.6/dist-packages (from -r requirements.txt (line 41)) (0.5.2)\n",
            "Requirement already satisfied: pydot==1.2.4 in /usr/local/lib/python3.6/dist-packages (from -r requirements.txt (line 42)) (1.2.4)\n",
            "Requirement already satisfied: Pygments==2.2.0 in /usr/local/lib/python3.6/dist-packages (from -r requirements.txt (line 43)) (2.2.0)\n",
            "Requirement already satisfied: pyparsing==2.2.0 in /usr/local/lib/python3.6/dist-packages (from -r requirements.txt (line 44)) (2.2.0)\n",
            "Requirement already satisfied: python-dateutil==2.7.2 in /usr/local/lib/python3.6/dist-packages (from -r requirements.txt (line 45)) (2.7.2)\n",
            "Requirement already satisfied: pytz==2018.4 in /usr/local/lib/python3.6/dist-packages (from -r requirements.txt (line 46)) (2018.4)\n",
            "Requirement already satisfied: PyYAML==3.12 in /usr/local/lib/python3.6/dist-packages (from -r requirements.txt (line 47)) (3.12)\n",
            "Requirement already satisfied: pyzmq==17.0.0 in /usr/local/lib/python3.6/dist-packages (from -r requirements.txt (line 48)) (17.0.0)\n",
            "Requirement already satisfied: qtconsole==4.3.1 in /usr/local/lib/python3.6/dist-packages (from -r requirements.txt (line 49)) (4.3.1)\n",
            "Requirement already satisfied: scipy==1.0.1 in /usr/local/lib/python3.6/dist-packages (from -r requirements.txt (line 50)) (1.0.1)\n",
            "Requirement already satisfied: Send2Trash==1.5.0 in /usr/local/lib/python3.6/dist-packages (from -r requirements.txt (line 51)) (1.5.0)\n",
            "Requirement already satisfied: simplegeneric==0.8.1 in /usr/local/lib/python3.6/dist-packages (from -r requirements.txt (line 52)) (0.8.1)\n",
            "Requirement already satisfied: six==1.11.0 in /usr/local/lib/python3.6/dist-packages (from -r requirements.txt (line 53)) (1.11.0)\n",
            "Requirement already satisfied: tensorboard==1.7.0 in /usr/local/lib/python3.6/dist-packages (from -r requirements.txt (line 54)) (1.7.0)\n",
            "Requirement already satisfied: tensorflow==1.7.0 in /usr/local/lib/python3.6/dist-packages (from -r requirements.txt (line 55)) (1.7.0)\n",
            "Requirement already satisfied: termcolor==1.1.0 in /usr/local/lib/python3.6/dist-packages (from -r requirements.txt (line 56)) (1.1.0)\n",
            "Requirement already satisfied: terminado==0.8.1 in /usr/local/lib/python3.6/dist-packages (from -r requirements.txt (line 57)) (0.8.1)\n",
            "Requirement already satisfied: testpath==0.3.1 in /usr/local/lib/python3.6/dist-packages (from -r requirements.txt (line 58)) (0.3.1)\n",
            "Requirement already satisfied: tornado==5.0.2 in /usr/local/lib/python3.6/dist-packages (from -r requirements.txt (line 59)) (5.0.2)\n",
            "Requirement already satisfied: traitlets==4.3.2 in /usr/local/lib/python3.6/dist-packages (from -r requirements.txt (line 60)) (4.3.2)\n",
            "Requirement already satisfied: wcwidth==0.1.7 in /usr/local/lib/python3.6/dist-packages (from -r requirements.txt (line 61)) (0.1.7)\n",
            "Requirement already satisfied: Werkzeug==0.14.1 in /usr/local/lib/python3.6/dist-packages (from -r requirements.txt (line 62)) (0.14.1)\n",
            "Requirement already satisfied: widgetsnbextension==3.2.1 in /usr/local/lib/python3.6/dist-packages (from -r requirements.txt (line 63)) (3.2.1)\n",
            "Requirement already satisfied: setuptools>=18.5 in /usr/local/lib/python3.6/dist-packages (from ipython==6.3.1->-r requirements.txt (line 14)) (39.0.1)\n",
            "Requirement already satisfied: wheel>=0.26; python_version >= \"3\" in /usr/local/lib/python3.6/dist-packages (from tensorboard==1.7.0->-r requirements.txt (line 54)) (0.31.0)\n",
            "Installing collected packages: Pillow\n",
            "  Found existing installation: Pillow 4.0.0\n",
            "    Uninstalling Pillow-4.0.0:\n",
            "      Successfully uninstalled Pillow-4.0.0\n",
            "Successfully installed Pillow-5.1.0\n"
          ],
          "name": "stdout"
        },
        {
          "output_type": "stream",
          "text": [
            "Looking in indexes: https://pypi.org/simple, https://legacy.pypi.org/simple\r\n",
            "Collecting Pillow==4.0.0\n",
            "  Using cached https://files.pythonhosted.org/packages/37/e8/b3fbf87b0188d22246678f8cd61e23e31caa1769ebc06f1664e2e5fe8a17/Pillow-4.0.0-cp36-cp36m-manylinux1_x86_64.whl\n",
            "Requirement already satisfied: olefile in /usr/local/lib/python3.6/dist-packages (from Pillow==4.0.0) (0.45.1)\n",
            "Installing collected packages: Pillow\n",
            "  Found existing installation: Pillow 5.1.0\n",
            "    Uninstalling Pillow-5.1.0:\n",
            "      Successfully uninstalled Pillow-5.1.0\n",
            "Successfully installed Pillow-4.0.0\n",
            "Looking in indexes: https://pypi.org/simple, https://legacy.pypi.org/simple\n",
            "Collecting PIL\n",
            "\u001b[31m  Could not find a version that satisfies the requirement PIL (from versions: )\u001b[0m\n",
            "\u001b[31mNo matching distribution found for PIL\u001b[0m\n",
            "Looking in indexes: https://pypi.org/simple, https://legacy.pypi.org/simple\n",
            "Requirement already satisfied: image in /usr/local/lib/python3.6/dist-packages (1.5.20)\n",
            "Requirement already satisfied: django in /usr/local/lib/python3.6/dist-packages (from image) (2.0.4)\n",
            "Requirement already satisfied: pillow in /usr/local/lib/python3.6/dist-packages (from image) (4.0.0)\n",
            "Requirement already satisfied: pytz in /usr/local/lib/python3.6/dist-packages (from django->image) (2018.4)\n",
            "Requirement already satisfied: olefile in /usr/local/lib/python3.6/dist-packages (from pillow->image) (0.45.1)\n"
          ],
          "name": "stdout"
        }
      ]
    },
    {
      "metadata": {
        "id": "j8ESpbziYk61",
        "colab_type": "code",
        "colab": {
          "base_uri": "https://localhost:8080/",
          "height": 305
        },
        "outputId": "bb76c653-89c4-4be7-84f3-d9cfd64aadb1"
      },
      "cell_type": "code",
      "source": [
        "# Download the dataset\n",
        "! ./download.sh"
      ],
      "execution_count": 50,
      "outputs": [
        {
          "output_type": "stream",
          "text": [
            "--2018-04-26 23:22:44--  https://www.dropbox.com/s/fi2g3zxsn0pdmn1/nbirds.zip\n",
            "Resolving www.dropbox.com (www.dropbox.com)... 162.125.9.1, 2620:100:601f:1::a27d:901\n",
            "Connecting to www.dropbox.com (www.dropbox.com)|162.125.9.1|:443... connected.\n",
            "HTTP request sent, awaiting response... 302 Found\n",
            "Location: https://dl.dropboxusercontent.com/content_link/nnECdYBQ3U1pnbwaaNcOEwPLkMFSlaLt6tEGAa4DikwGm8Drtr7z8qGQUgcHPkea/file [following]\n",
            "--2018-04-26 23:22:45--  https://dl.dropboxusercontent.com/content_link/nnECdYBQ3U1pnbwaaNcOEwPLkMFSlaLt6tEGAa4DikwGm8Drtr7z8qGQUgcHPkea/file\n",
            "Resolving dl.dropboxusercontent.com (dl.dropboxusercontent.com)... 162.125.9.6, 2620:100:601f:6::a27d:906\n",
            "Connecting to dl.dropboxusercontent.com (dl.dropboxusercontent.com)|162.125.9.6|:443... connected.\n",
            "HTTP request sent, awaiting response... 200 OK\n",
            "Length: 623160299 (594M) [application/zip]\n",
            "Saving to: ‘/content/nn-nbirds/data/nbirds.zip’\n",
            "\n",
            "/content/nn-nbirds/ 100%[===================>] 594.29M  36.0MB/s    in 18s     \n",
            "\n",
            "2018-04-26 23:23:04 (32.8 MB/s) - ‘/content/nn-nbirds/data/nbirds.zip’ saved [623160299/623160299]\n",
            "\n"
          ],
          "name": "stdout"
        }
      ]
    },
    {
      "metadata": {
        "id": "h2rzamJxg582",
        "colab_type": "code",
        "colab": {}
      },
      "cell_type": "code",
      "source": [
        "from preprocess import *\n",
        "\n",
        "# preprocess and load txt ds metadata\n",
        "ds_meta = build_ds_meta()"
      ],
      "execution_count": 0,
      "outputs": []
    },
    {
      "metadata": {
        "id": "-_E1Bck1hJnf",
        "colab_type": "code",
        "colab": {
          "base_uri": "https://localhost:8080/",
          "height": 143
        },
        "outputId": "dd55b59f-1b4e-416d-e3fa-bb04a48e9015"
      },
      "cell_type": "code",
      "source": [
        "for ds_meta_item in ds_meta:\n",
        "    print('Quantity of %s: %s' % (ds_meta_item, ds_meta[ds_meta_item].count()[0]))"
      ],
      "execution_count": 52,
      "outputs": [
        {
          "output_type": "stream",
          "text": [
            "Quantity of bounding_boxes: 48562\n",
            "Quantity of classes: 1011\n",
            "Quantity of hierarchy: 1010\n",
            "Quantity of image_class_labels: 48562\n",
            "Quantity of images: 48562\n",
            "Quantity of photographers: 48562\n",
            "Quantity of sizes: 48562\n"
          ],
          "name": "stdout"
        }
      ]
    },
    {
      "metadata": {
        "id": "-POd5m4EiA7G",
        "colab_type": "code",
        "colab": {
          "base_uri": "https://localhost:8080/",
          "height": 586
        },
        "outputId": "44503635-2662-46e9-b537-436b82ea56a1"
      },
      "cell_type": "code",
      "source": [
        "class Transform:\n",
        "  def __init__(self, img, guid, ds_meta):\n",
        "    self.img = img\n",
        "    self.guid = guid\n",
        "    self.ds_meta = ds_meta\n",
        "  \n",
        "  def resize(self):\n",
        "      img = cv2.resize(self.img, (150, 150))\n",
        "      return self\n",
        "\n",
        "  def greyscale(self):\n",
        "      img = cv2.cvtColor(self.img, cv2.COLOR_BGR2GRAY)\n",
        "      return self\n",
        "\n",
        "  def gabor_filter(self):\n",
        "      g_kernel = cv2.getGaborKernel((15, 15), 0.66, np.pi/8, 1.3, 0.5, 0, ktype=cv2.CV_32F)\n",
        "\n",
        "      img = cv2.normalize(cv2.filter2D(self.img, cv2.CV_8UC3, g_kernel),\n",
        "                           None,\n",
        "                           alpha=0,\n",
        "                           beta=255,\n",
        "                           norm_type=cv2.NORM_MINMAX,\n",
        "                           dtype=cv2.CV_32F)\n",
        "      \n",
        "      return self\n",
        "\n",
        "# BASE               SET_A\n",
        "# + Bounding box  => SET_A_BB               (del)\n",
        "# + Gabor filter  => SET_A_BB_GF            (del)\n",
        "# + TVT splitting => SET_A_BB_GF_train\n",
        "#                    SET_A_BB_GF_validation\n",
        "#                    SET_A_BB_GF_test\n",
        "\n",
        "apply(bounding_box, 'data/SET_A', 'data/SET_A_BB', ds_meta)\n",
        "apply(lambda img, guid, dsm: Transform(img, guid, ds_meta).resize().greyscale().gabor_filter().img, 'data/SET_A_BB', 'data/SET_A_BB_GF', ds_meta)\n",
        "apply_tvt_split('data/SET_A_BB_GF', train=0.7, test=0.2, validation=0.1)"
      ],
      "execution_count": 53,
      "outputs": [
        {
          "output_type": "error",
          "ename": "TypeError",
          "evalue": "ignored",
          "traceback": [
            "\u001b[0;31m---------------------------------------------------------------------------\u001b[0m",
            "\u001b[0;31mTypeError\u001b[0m                                 Traceback (most recent call last)",
            "\u001b[0;32m<ipython-input-53-9425523ba1c0>\u001b[0m in \u001b[0;36m<module>\u001b[0;34m()\u001b[0m\n\u001b[1;32m     33\u001b[0m \u001b[0;34m\u001b[0m\u001b[0m\n\u001b[1;32m     34\u001b[0m \u001b[0mapply\u001b[0m\u001b[0;34m(\u001b[0m\u001b[0mbounding_box\u001b[0m\u001b[0;34m,\u001b[0m \u001b[0;34m'data/SET_A'\u001b[0m\u001b[0;34m,\u001b[0m \u001b[0;34m'data/SET_A_BB'\u001b[0m\u001b[0;34m,\u001b[0m \u001b[0mds_meta\u001b[0m\u001b[0;34m)\u001b[0m\u001b[0;34m\u001b[0m\u001b[0m\n\u001b[0;32m---> 35\u001b[0;31m \u001b[0mapply\u001b[0m\u001b[0;34m(\u001b[0m\u001b[0;32mlambda\u001b[0m \u001b[0mimg\u001b[0m\u001b[0;34m,\u001b[0m \u001b[0mguid\u001b[0m\u001b[0;34m,\u001b[0m \u001b[0mdsm\u001b[0m\u001b[0;34m:\u001b[0m \u001b[0mTransform\u001b[0m\u001b[0;34m(\u001b[0m\u001b[0mimg\u001b[0m\u001b[0;34m,\u001b[0m \u001b[0mguid\u001b[0m\u001b[0;34m,\u001b[0m \u001b[0mds_meta\u001b[0m\u001b[0;34m)\u001b[0m\u001b[0;34m.\u001b[0m\u001b[0mresize\u001b[0m\u001b[0;34m(\u001b[0m\u001b[0;34m)\u001b[0m\u001b[0;34m.\u001b[0m\u001b[0mgreyscale\u001b[0m\u001b[0;34m(\u001b[0m\u001b[0;34m)\u001b[0m\u001b[0;34m.\u001b[0m\u001b[0mgabor_filter\u001b[0m\u001b[0;34m(\u001b[0m\u001b[0;34m)\u001b[0m\u001b[0;34m.\u001b[0m\u001b[0mimg\u001b[0m\u001b[0;34m,\u001b[0m \u001b[0;34m'data/SET_A_BB'\u001b[0m\u001b[0;34m,\u001b[0m \u001b[0;34m'data/SET_A_BB_GF'\u001b[0m\u001b[0;34m,\u001b[0m \u001b[0mds_meta\u001b[0m\u001b[0;34m)\u001b[0m\u001b[0;34m\u001b[0m\u001b[0m\n\u001b[0m\u001b[1;32m     36\u001b[0m \u001b[0mapply_tvt_split\u001b[0m\u001b[0;34m(\u001b[0m\u001b[0;34m'data/SET_A_BB_GF'\u001b[0m\u001b[0;34m,\u001b[0m \u001b[0mtrain\u001b[0m\u001b[0;34m=\u001b[0m\u001b[0;36m0.7\u001b[0m\u001b[0;34m,\u001b[0m \u001b[0mtest\u001b[0m\u001b[0;34m=\u001b[0m\u001b[0;36m0.2\u001b[0m\u001b[0;34m,\u001b[0m \u001b[0mvalidation\u001b[0m\u001b[0;34m=\u001b[0m\u001b[0;36m0.1\u001b[0m\u001b[0;34m)\u001b[0m\u001b[0;34m\u001b[0m\u001b[0m\n",
            "\u001b[0;32m/content/nn-nbirds/preprocess.py\u001b[0m in \u001b[0;36mapply\u001b[0;34m(transform, in_path, out_path, ds_meta, class_subdirs)\u001b[0m\n\u001b[1;32m     77\u001b[0m \u001b[0;34m\u001b[0m\u001b[0m\n\u001b[1;32m     78\u001b[0m     \u001b[0msubdirs\u001b[0m \u001b[0;34m=\u001b[0m \u001b[0;34m[\u001b[0m\u001b[0;34m''\u001b[0m\u001b[0;34m]\u001b[0m \u001b[0;32mif\u001b[0m \u001b[0;32mnot\u001b[0m \u001b[0mclass_subdirs\u001b[0m \u001b[0;32melse\u001b[0m \u001b[0mos\u001b[0m\u001b[0;34m.\u001b[0m\u001b[0mlistdir\u001b[0m\u001b[0;34m(\u001b[0m\u001b[0mpath\u001b[0m\u001b[0;34m)\u001b[0m\u001b[0;34m\u001b[0m\u001b[0m\n\u001b[0;32m---> 79\u001b[0;31m \u001b[0;34m\u001b[0m\u001b[0m\n\u001b[0m\u001b[1;32m     80\u001b[0m     \u001b[0;32mfor\u001b[0m \u001b[0msubdir\u001b[0m \u001b[0;32min\u001b[0m \u001b[0msubdirs\u001b[0m\u001b[0;34m:\u001b[0m\u001b[0;34m\u001b[0m\u001b[0m\n\u001b[1;32m     81\u001b[0m         \u001b[0msubdir_p\u001b[0m \u001b[0;34m=\u001b[0m \u001b[0mos\u001b[0m\u001b[0;34m.\u001b[0m\u001b[0mpath\u001b[0m\u001b[0;34m.\u001b[0m\u001b[0mjoin\u001b[0m\u001b[0;34m(\u001b[0m\u001b[0;34m*\u001b[0m\u001b[0;34m(\u001b[0m\u001b[0mpath\u001b[0m\u001b[0;34m,\u001b[0m \u001b[0msubdir\u001b[0m\u001b[0;34m)\u001b[0m\u001b[0;34m)\u001b[0m\u001b[0;34m\u001b[0m\u001b[0m\n",
            "\u001b[0;32m<ipython-input-53-9425523ba1c0>\u001b[0m in \u001b[0;36m<lambda>\u001b[0;34m(img, guid, dsm)\u001b[0m\n\u001b[1;32m     33\u001b[0m \u001b[0;34m\u001b[0m\u001b[0m\n\u001b[1;32m     34\u001b[0m \u001b[0mapply\u001b[0m\u001b[0;34m(\u001b[0m\u001b[0mbounding_box\u001b[0m\u001b[0;34m,\u001b[0m \u001b[0;34m'data/SET_A'\u001b[0m\u001b[0;34m,\u001b[0m \u001b[0;34m'data/SET_A_BB'\u001b[0m\u001b[0;34m,\u001b[0m \u001b[0mds_meta\u001b[0m\u001b[0;34m)\u001b[0m\u001b[0;34m\u001b[0m\u001b[0m\n\u001b[0;32m---> 35\u001b[0;31m \u001b[0mapply\u001b[0m\u001b[0;34m(\u001b[0m\u001b[0;32mlambda\u001b[0m \u001b[0mimg\u001b[0m\u001b[0;34m,\u001b[0m \u001b[0mguid\u001b[0m\u001b[0;34m,\u001b[0m \u001b[0mdsm\u001b[0m\u001b[0;34m:\u001b[0m \u001b[0mTransform\u001b[0m\u001b[0;34m(\u001b[0m\u001b[0mimg\u001b[0m\u001b[0;34m,\u001b[0m \u001b[0mguid\u001b[0m\u001b[0;34m,\u001b[0m \u001b[0mds_meta\u001b[0m\u001b[0;34m)\u001b[0m\u001b[0;34m.\u001b[0m\u001b[0mresize\u001b[0m\u001b[0;34m(\u001b[0m\u001b[0;34m)\u001b[0m\u001b[0;34m.\u001b[0m\u001b[0mgreyscale\u001b[0m\u001b[0;34m(\u001b[0m\u001b[0;34m)\u001b[0m\u001b[0;34m.\u001b[0m\u001b[0mgabor_filter\u001b[0m\u001b[0;34m(\u001b[0m\u001b[0;34m)\u001b[0m\u001b[0;34m.\u001b[0m\u001b[0mimg\u001b[0m\u001b[0;34m,\u001b[0m \u001b[0;34m'data/SET_A_BB'\u001b[0m\u001b[0;34m,\u001b[0m \u001b[0;34m'data/SET_A_BB_GF'\u001b[0m\u001b[0;34m,\u001b[0m \u001b[0mds_meta\u001b[0m\u001b[0;34m)\u001b[0m\u001b[0;34m\u001b[0m\u001b[0m\n\u001b[0m\u001b[1;32m     36\u001b[0m \u001b[0mapply_tvt_split\u001b[0m\u001b[0;34m(\u001b[0m\u001b[0;34m'data/SET_A_BB_GF'\u001b[0m\u001b[0;34m,\u001b[0m \u001b[0mtrain\u001b[0m\u001b[0;34m=\u001b[0m\u001b[0;36m0.7\u001b[0m\u001b[0;34m,\u001b[0m \u001b[0mtest\u001b[0m\u001b[0;34m=\u001b[0m\u001b[0;36m0.2\u001b[0m\u001b[0;34m,\u001b[0m \u001b[0mvalidation\u001b[0m\u001b[0;34m=\u001b[0m\u001b[0;36m0.1\u001b[0m\u001b[0;34m)\u001b[0m\u001b[0;34m\u001b[0m\u001b[0m\n",
            "\u001b[0;32m<ipython-input-53-9425523ba1c0>\u001b[0m in \u001b[0;36mresize\u001b[0;34m(self)\u001b[0m\n\u001b[1;32m      6\u001b[0m \u001b[0;34m\u001b[0m\u001b[0m\n\u001b[1;32m      7\u001b[0m   \u001b[0;32mdef\u001b[0m \u001b[0mresize\u001b[0m\u001b[0;34m(\u001b[0m\u001b[0mself\u001b[0m\u001b[0;34m)\u001b[0m\u001b[0;34m:\u001b[0m\u001b[0;34m\u001b[0m\u001b[0m\n\u001b[0;32m----> 8\u001b[0;31m       \u001b[0mimg\u001b[0m \u001b[0;34m=\u001b[0m \u001b[0mcv2\u001b[0m\u001b[0;34m.\u001b[0m\u001b[0mresize\u001b[0m\u001b[0;34m(\u001b[0m\u001b[0mself\u001b[0m\u001b[0;34m.\u001b[0m\u001b[0mimg\u001b[0m\u001b[0;34m,\u001b[0m \u001b[0;34m(\u001b[0m\u001b[0;36m150\u001b[0m\u001b[0;34m,\u001b[0m \u001b[0;36m150\u001b[0m\u001b[0;34m)\u001b[0m\u001b[0;34m)\u001b[0m\u001b[0;34m\u001b[0m\u001b[0m\n\u001b[0m\u001b[1;32m      9\u001b[0m       \u001b[0;32mreturn\u001b[0m \u001b[0mself\u001b[0m\u001b[0;34m\u001b[0m\u001b[0m\n\u001b[1;32m     10\u001b[0m \u001b[0;34m\u001b[0m\u001b[0m\n",
            "\u001b[0;31mTypeError\u001b[0m: src is not a numpy array, neither a scalar"
          ]
        }
      ]
    },
    {
      "metadata": {
        "id": "Bg0yoHp1iF3-",
        "colab_type": "code",
        "colab": {}
      },
      "cell_type": "code",
      "source": [
        "import os\n",
        "\n",
        "from keras.preprocessing.image import ImageDataGenerator\n",
        "from keras.models import Sequential\n",
        "from keras.layers import Activation, Dropout, Flatten, Dense"
      ],
      "execution_count": 0,
      "outputs": []
    },
    {
      "metadata": {
        "id": "NKZL5ACblgQm",
        "colab_type": "code",
        "colab": {
          "base_uri": "https://localhost:8080/",
          "height": 35
        },
        "outputId": "5e434f17-734f-486f-8342-e8d734c80762"
      },
      "cell_type": "code",
      "source": [
        "import tensorflow as tf\n",
        "tf.test.gpu_device_name()"
      ],
      "execution_count": 45,
      "outputs": [
        {
          "output_type": "execute_result",
          "data": {
            "text/plain": [
              "'/device:GPU:0'"
            ]
          },
          "metadata": {
            "tags": []
          },
          "execution_count": 45
        }
      ]
    },
    {
      "metadata": {
        "id": "AL_Ws1eo0CQU",
        "colab_type": "code",
        "colab": {
          "base_uri": "https://localhost:8080/",
          "height": 287
        },
        "outputId": "01102aab-776c-47bc-c964-455414447c57"
      },
      "cell_type": "code",
      "source": [
        "from tensorflow.python.client import device_lib\n",
        "device_lib.list_local_devices()"
      ],
      "execution_count": 46,
      "outputs": [
        {
          "output_type": "execute_result",
          "data": {
            "text/plain": [
              "[name: \"/device:CPU:0\"\n",
              " device_type: \"CPU\"\n",
              " memory_limit: 268435456\n",
              " locality {\n",
              " }\n",
              " incarnation: 9452461725818243769, name: \"/device:GPU:0\"\n",
              " device_type: \"GPU\"\n",
              " memory_limit: 11288962663\n",
              " locality {\n",
              "   bus_id: 1\n",
              "   links {\n",
              "   }\n",
              " }\n",
              " incarnation: 6373910734070522758\n",
              " physical_device_desc: \"device: 0, name: Tesla K80, pci bus id: 0000:00:04.0, compute capability: 3.7\"]"
            ]
          },
          "metadata": {
            "tags": []
          },
          "execution_count": 46
        }
      ]
    },
    {
      "metadata": {
        "id": "AonKejzcjJ1s",
        "colab_type": "code",
        "colab": {
          "base_uri": "https://localhost:8080/",
          "height": 1686
        },
        "outputId": "eca2b2d9-92dc-498b-c532-975842f1cd62"
      },
      "cell_type": "code",
      "source": [
        "batch_size = 32\n",
        "\n",
        "train_labels = os.listdir('data/SET_A_BB_GF_train')\n",
        "\n",
        "train_datagen = ImageDataGenerator(\n",
        "    rescale=1./255,\n",
        "    rotation_range=90,\n",
        "    width_shift_range=0.2,\n",
        "    height_shift_range=0.2)\n",
        "\n",
        "test_datagen = ImageDataGenerator(rescale=1./255)\n",
        "\n",
        "train_generator = train_datagen.flow_from_directory(\n",
        "    'data/SET_A_BB_GF_train',\n",
        "    target_size=(150, 150),\n",
        "    batch_size=batch_size,\n",
        "    color_mode='grayscale')\n",
        "\n",
        "validation_generator = train_datagen.flow_from_directory(\n",
        "    'data/SET_A_BB_GF_validation',\n",
        "    target_size=(150, 150),\n",
        "    batch_size=batch_size,\n",
        "    color_mode='grayscale')\n",
        "\n",
        "model = Sequential()\n",
        "model.add(Flatten(input_shape=(150, 150, 1))) \n",
        "model.add(Dense(4))\n",
        "model.add(Dense(8))\n",
        "model.add(Dense(len(train_labels)))\n",
        "model.add(Activation('sigmoid'))\n",
        "\n",
        "model.compile(loss='categorical_crossentropy',\n",
        "              optimizer='adam',\n",
        "              metrics=['accuracy'])\n",
        "\n",
        "model.fit_generator(\n",
        "        train_generator,\n",
        "        steps_per_epoch=2000 // batch_size,\n",
        "        epochs=50,\n",
        "        validation_data=validation_generator,\n",
        "        validation_steps=20)"
      ],
      "execution_count": 48,
      "outputs": [
        {
          "output_type": "stream",
          "text": [
            "Found 2103 images belonging to 50 classes.\n",
            "Found 300 images belonging to 50 classes.\n",
            "Epoch 1/50\n",
            "62/62 [==============================] - 19s 299ms/step - loss: 4.0935 - acc: 0.0207 - val_loss: 4.2036 - val_acc: 0.0133\n",
            "Epoch 2/50\n",
            "62/62 [==============================] - 18s 286ms/step - loss: 4.0398 - acc: 0.0217 - val_loss: 4.0498 - val_acc: 0.0217\n",
            "Epoch 3/50\n",
            "62/62 [==============================] - 17s 276ms/step - loss: 4.0275 - acc: 0.0257 - val_loss: 3.9449 - val_acc: 0.0350\n",
            "Epoch 4/50\n",
            "62/62 [==============================] - 16s 260ms/step - loss: 3.9601 - acc: 0.0297 - val_loss: 4.0410 - val_acc: 0.0200\n",
            "Epoch 5/50\n",
            "29/62 [=============>................] - ETA: 4s - loss: 4.0089 - acc: 0.0205"
          ],
          "name": "stdout"
        },
        {
          "output_type": "stream",
          "text": [
            "62/62 [==============================] - 16s 262ms/step - loss: 3.9356 - acc: 0.0247 - val_loss: 3.9238 - val_acc: 0.0233\n",
            "Epoch 6/50\n",
            "62/62 [==============================] - 16s 264ms/step - loss: 3.9296 - acc: 0.0188 - val_loss: 3.8714 - val_acc: 0.0317\n",
            "Epoch 7/50\n",
            "62/62 [==============================] - 16s 259ms/step - loss: 3.8602 - acc: 0.0267 - val_loss: 3.8962 - val_acc: 0.0217\n",
            "Epoch 8/50\n",
            "47/62 [=====================>........] - ETA: 2s - loss: 3.8724 - acc: 0.0255"
          ],
          "name": "stdout"
        },
        {
          "output_type": "error",
          "ename": "KeyboardInterrupt",
          "evalue": "ignored",
          "traceback": [
            "\u001b[0;31m---------------------------------------------------------------------------\u001b[0m",
            "\u001b[0;31mKeyboardInterrupt\u001b[0m                         Traceback (most recent call last)",
            "\u001b[0;32m<ipython-input-48-c442282c0b86>\u001b[0m in \u001b[0;36m<module>\u001b[0;34m()\u001b[0m\n\u001b[1;32m     39\u001b[0m         \u001b[0mepochs\u001b[0m\u001b[0;34m=\u001b[0m\u001b[0;36m50\u001b[0m\u001b[0;34m,\u001b[0m\u001b[0;34m\u001b[0m\u001b[0m\n\u001b[1;32m     40\u001b[0m         \u001b[0mvalidation_data\u001b[0m\u001b[0;34m=\u001b[0m\u001b[0mvalidation_generator\u001b[0m\u001b[0;34m,\u001b[0m\u001b[0;34m\u001b[0m\u001b[0m\n\u001b[0;32m---> 41\u001b[0;31m         validation_steps=20)\n\u001b[0m",
            "\u001b[0;32m/usr/local/lib/python3.6/dist-packages/keras/legacy/interfaces.py\u001b[0m in \u001b[0;36mwrapper\u001b[0;34m(*args, **kwargs)\u001b[0m\n\u001b[1;32m     89\u001b[0m                 warnings.warn('Update your `' + object_name +\n\u001b[1;32m     90\u001b[0m                               '` call to the Keras 2 API: ' + signature, stacklevel=2)\n\u001b[0;32m---> 91\u001b[0;31m             \u001b[0;32mreturn\u001b[0m \u001b[0mfunc\u001b[0m\u001b[0;34m(\u001b[0m\u001b[0;34m*\u001b[0m\u001b[0margs\u001b[0m\u001b[0;34m,\u001b[0m \u001b[0;34m**\u001b[0m\u001b[0mkwargs\u001b[0m\u001b[0;34m)\u001b[0m\u001b[0;34m\u001b[0m\u001b[0m\n\u001b[0m\u001b[1;32m     92\u001b[0m         \u001b[0mwrapper\u001b[0m\u001b[0;34m.\u001b[0m\u001b[0m_original_function\u001b[0m \u001b[0;34m=\u001b[0m \u001b[0mfunc\u001b[0m\u001b[0;34m\u001b[0m\u001b[0m\n\u001b[1;32m     93\u001b[0m         \u001b[0;32mreturn\u001b[0m \u001b[0mwrapper\u001b[0m\u001b[0;34m\u001b[0m\u001b[0m\n",
            "\u001b[0;32m/usr/local/lib/python3.6/dist-packages/keras/models.py\u001b[0m in \u001b[0;36mfit_generator\u001b[0;34m(self, generator, steps_per_epoch, epochs, verbose, callbacks, validation_data, validation_steps, class_weight, max_queue_size, workers, use_multiprocessing, shuffle, initial_epoch)\u001b[0m\n\u001b[1;32m   1274\u001b[0m                                         \u001b[0muse_multiprocessing\u001b[0m\u001b[0;34m=\u001b[0m\u001b[0muse_multiprocessing\u001b[0m\u001b[0;34m,\u001b[0m\u001b[0;34m\u001b[0m\u001b[0m\n\u001b[1;32m   1275\u001b[0m                                         \u001b[0mshuffle\u001b[0m\u001b[0;34m=\u001b[0m\u001b[0mshuffle\u001b[0m\u001b[0;34m,\u001b[0m\u001b[0;34m\u001b[0m\u001b[0m\n\u001b[0;32m-> 1276\u001b[0;31m                                         initial_epoch=initial_epoch)\n\u001b[0m\u001b[1;32m   1277\u001b[0m \u001b[0;34m\u001b[0m\u001b[0m\n\u001b[1;32m   1278\u001b[0m     \u001b[0;34m@\u001b[0m\u001b[0minterfaces\u001b[0m\u001b[0;34m.\u001b[0m\u001b[0mlegacy_generator_methods_support\u001b[0m\u001b[0;34m\u001b[0m\u001b[0m\n",
            "\u001b[0;32m/usr/local/lib/python3.6/dist-packages/keras/legacy/interfaces.py\u001b[0m in \u001b[0;36mwrapper\u001b[0;34m(*args, **kwargs)\u001b[0m\n\u001b[1;32m     89\u001b[0m                 warnings.warn('Update your `' + object_name +\n\u001b[1;32m     90\u001b[0m                               '` call to the Keras 2 API: ' + signature, stacklevel=2)\n\u001b[0;32m---> 91\u001b[0;31m             \u001b[0;32mreturn\u001b[0m \u001b[0mfunc\u001b[0m\u001b[0;34m(\u001b[0m\u001b[0;34m*\u001b[0m\u001b[0margs\u001b[0m\u001b[0;34m,\u001b[0m \u001b[0;34m**\u001b[0m\u001b[0mkwargs\u001b[0m\u001b[0;34m)\u001b[0m\u001b[0;34m\u001b[0m\u001b[0m\n\u001b[0m\u001b[1;32m     92\u001b[0m         \u001b[0mwrapper\u001b[0m\u001b[0;34m.\u001b[0m\u001b[0m_original_function\u001b[0m \u001b[0;34m=\u001b[0m \u001b[0mfunc\u001b[0m\u001b[0;34m\u001b[0m\u001b[0m\n\u001b[1;32m     93\u001b[0m         \u001b[0;32mreturn\u001b[0m \u001b[0mwrapper\u001b[0m\u001b[0;34m\u001b[0m\u001b[0m\n",
            "\u001b[0;32m/usr/local/lib/python3.6/dist-packages/keras/engine/training.py\u001b[0m in \u001b[0;36mfit_generator\u001b[0;34m(self, generator, steps_per_epoch, epochs, verbose, callbacks, validation_data, validation_steps, class_weight, max_queue_size, workers, use_multiprocessing, shuffle, initial_epoch)\u001b[0m\n\u001b[1;32m   2190\u001b[0m                 \u001b[0mbatch_index\u001b[0m \u001b[0;34m=\u001b[0m \u001b[0;36m0\u001b[0m\u001b[0;34m\u001b[0m\u001b[0m\n\u001b[1;32m   2191\u001b[0m                 \u001b[0;32mwhile\u001b[0m \u001b[0msteps_done\u001b[0m \u001b[0;34m<\u001b[0m \u001b[0msteps_per_epoch\u001b[0m\u001b[0;34m:\u001b[0m\u001b[0;34m\u001b[0m\u001b[0m\n\u001b[0;32m-> 2192\u001b[0;31m                     \u001b[0mgenerator_output\u001b[0m \u001b[0;34m=\u001b[0m \u001b[0mnext\u001b[0m\u001b[0;34m(\u001b[0m\u001b[0moutput_generator\u001b[0m\u001b[0;34m)\u001b[0m\u001b[0;34m\u001b[0m\u001b[0m\n\u001b[0m\u001b[1;32m   2193\u001b[0m \u001b[0;34m\u001b[0m\u001b[0m\n\u001b[1;32m   2194\u001b[0m                     \u001b[0;32mif\u001b[0m \u001b[0;32mnot\u001b[0m \u001b[0mhasattr\u001b[0m\u001b[0;34m(\u001b[0m\u001b[0mgenerator_output\u001b[0m\u001b[0;34m,\u001b[0m \u001b[0;34m'__len__'\u001b[0m\u001b[0;34m)\u001b[0m\u001b[0;34m:\u001b[0m\u001b[0;34m\u001b[0m\u001b[0m\n",
            "\u001b[0;32m/usr/local/lib/python3.6/dist-packages/keras/utils/data_utils.py\u001b[0m in \u001b[0;36mget\u001b[0;34m(self)\u001b[0m\n\u001b[1;32m    576\u001b[0m         \u001b[0;32mtry\u001b[0m\u001b[0;34m:\u001b[0m\u001b[0;34m\u001b[0m\u001b[0m\n\u001b[1;32m    577\u001b[0m             \u001b[0;32mwhile\u001b[0m \u001b[0mself\u001b[0m\u001b[0;34m.\u001b[0m\u001b[0mis_running\u001b[0m\u001b[0;34m(\u001b[0m\u001b[0;34m)\u001b[0m\u001b[0;34m:\u001b[0m\u001b[0;34m\u001b[0m\u001b[0m\n\u001b[0;32m--> 578\u001b[0;31m                 \u001b[0minputs\u001b[0m \u001b[0;34m=\u001b[0m \u001b[0mself\u001b[0m\u001b[0;34m.\u001b[0m\u001b[0mqueue\u001b[0m\u001b[0;34m.\u001b[0m\u001b[0mget\u001b[0m\u001b[0;34m(\u001b[0m\u001b[0mblock\u001b[0m\u001b[0;34m=\u001b[0m\u001b[0;32mTrue\u001b[0m\u001b[0;34m)\u001b[0m\u001b[0;34m.\u001b[0m\u001b[0mget\u001b[0m\u001b[0;34m(\u001b[0m\u001b[0;34m)\u001b[0m\u001b[0;34m\u001b[0m\u001b[0m\n\u001b[0m\u001b[1;32m    579\u001b[0m                 \u001b[0mself\u001b[0m\u001b[0;34m.\u001b[0m\u001b[0mqueue\u001b[0m\u001b[0;34m.\u001b[0m\u001b[0mtask_done\u001b[0m\u001b[0;34m(\u001b[0m\u001b[0;34m)\u001b[0m\u001b[0;34m\u001b[0m\u001b[0m\n\u001b[1;32m    580\u001b[0m                 \u001b[0;32mif\u001b[0m \u001b[0minputs\u001b[0m \u001b[0;32mis\u001b[0m \u001b[0;32mnot\u001b[0m \u001b[0;32mNone\u001b[0m\u001b[0;34m:\u001b[0m\u001b[0;34m\u001b[0m\u001b[0m\n",
            "\u001b[0;32m/usr/lib/python3.6/multiprocessing/pool.py\u001b[0m in \u001b[0;36mget\u001b[0;34m(self, timeout)\u001b[0m\n\u001b[1;32m    636\u001b[0m \u001b[0;34m\u001b[0m\u001b[0m\n\u001b[1;32m    637\u001b[0m     \u001b[0;32mdef\u001b[0m \u001b[0mget\u001b[0m\u001b[0;34m(\u001b[0m\u001b[0mself\u001b[0m\u001b[0;34m,\u001b[0m \u001b[0mtimeout\u001b[0m\u001b[0;34m=\u001b[0m\u001b[0;32mNone\u001b[0m\u001b[0;34m)\u001b[0m\u001b[0;34m:\u001b[0m\u001b[0;34m\u001b[0m\u001b[0m\n\u001b[0;32m--> 638\u001b[0;31m         \u001b[0mself\u001b[0m\u001b[0;34m.\u001b[0m\u001b[0mwait\u001b[0m\u001b[0;34m(\u001b[0m\u001b[0mtimeout\u001b[0m\u001b[0;34m)\u001b[0m\u001b[0;34m\u001b[0m\u001b[0m\n\u001b[0m\u001b[1;32m    639\u001b[0m         \u001b[0;32mif\u001b[0m \u001b[0;32mnot\u001b[0m \u001b[0mself\u001b[0m\u001b[0;34m.\u001b[0m\u001b[0mready\u001b[0m\u001b[0;34m(\u001b[0m\u001b[0;34m)\u001b[0m\u001b[0;34m:\u001b[0m\u001b[0;34m\u001b[0m\u001b[0m\n\u001b[1;32m    640\u001b[0m             \u001b[0;32mraise\u001b[0m \u001b[0mTimeoutError\u001b[0m\u001b[0;34m\u001b[0m\u001b[0m\n",
            "\u001b[0;32m/usr/lib/python3.6/multiprocessing/pool.py\u001b[0m in \u001b[0;36mwait\u001b[0;34m(self, timeout)\u001b[0m\n\u001b[1;32m    633\u001b[0m \u001b[0;34m\u001b[0m\u001b[0m\n\u001b[1;32m    634\u001b[0m     \u001b[0;32mdef\u001b[0m \u001b[0mwait\u001b[0m\u001b[0;34m(\u001b[0m\u001b[0mself\u001b[0m\u001b[0;34m,\u001b[0m \u001b[0mtimeout\u001b[0m\u001b[0;34m=\u001b[0m\u001b[0;32mNone\u001b[0m\u001b[0;34m)\u001b[0m\u001b[0;34m:\u001b[0m\u001b[0;34m\u001b[0m\u001b[0m\n\u001b[0;32m--> 635\u001b[0;31m         \u001b[0mself\u001b[0m\u001b[0;34m.\u001b[0m\u001b[0m_event\u001b[0m\u001b[0;34m.\u001b[0m\u001b[0mwait\u001b[0m\u001b[0;34m(\u001b[0m\u001b[0mtimeout\u001b[0m\u001b[0;34m)\u001b[0m\u001b[0;34m\u001b[0m\u001b[0m\n\u001b[0m\u001b[1;32m    636\u001b[0m \u001b[0;34m\u001b[0m\u001b[0m\n\u001b[1;32m    637\u001b[0m     \u001b[0;32mdef\u001b[0m \u001b[0mget\u001b[0m\u001b[0;34m(\u001b[0m\u001b[0mself\u001b[0m\u001b[0;34m,\u001b[0m \u001b[0mtimeout\u001b[0m\u001b[0;34m=\u001b[0m\u001b[0;32mNone\u001b[0m\u001b[0;34m)\u001b[0m\u001b[0;34m:\u001b[0m\u001b[0;34m\u001b[0m\u001b[0m\n",
            "\u001b[0;32m/usr/lib/python3.6/threading.py\u001b[0m in \u001b[0;36mwait\u001b[0;34m(self, timeout)\u001b[0m\n\u001b[1;32m    549\u001b[0m             \u001b[0msignaled\u001b[0m \u001b[0;34m=\u001b[0m \u001b[0mself\u001b[0m\u001b[0;34m.\u001b[0m\u001b[0m_flag\u001b[0m\u001b[0;34m\u001b[0m\u001b[0m\n\u001b[1;32m    550\u001b[0m             \u001b[0;32mif\u001b[0m \u001b[0;32mnot\u001b[0m \u001b[0msignaled\u001b[0m\u001b[0;34m:\u001b[0m\u001b[0;34m\u001b[0m\u001b[0m\n\u001b[0;32m--> 551\u001b[0;31m                 \u001b[0msignaled\u001b[0m \u001b[0;34m=\u001b[0m \u001b[0mself\u001b[0m\u001b[0;34m.\u001b[0m\u001b[0m_cond\u001b[0m\u001b[0;34m.\u001b[0m\u001b[0mwait\u001b[0m\u001b[0;34m(\u001b[0m\u001b[0mtimeout\u001b[0m\u001b[0;34m)\u001b[0m\u001b[0;34m\u001b[0m\u001b[0m\n\u001b[0m\u001b[1;32m    552\u001b[0m             \u001b[0;32mreturn\u001b[0m \u001b[0msignaled\u001b[0m\u001b[0;34m\u001b[0m\u001b[0m\n\u001b[1;32m    553\u001b[0m \u001b[0;34m\u001b[0m\u001b[0m\n",
            "\u001b[0;32m/usr/lib/python3.6/threading.py\u001b[0m in \u001b[0;36mwait\u001b[0;34m(self, timeout)\u001b[0m\n\u001b[1;32m    293\u001b[0m         \u001b[0;32mtry\u001b[0m\u001b[0;34m:\u001b[0m    \u001b[0;31m# restore state no matter what (e.g., KeyboardInterrupt)\u001b[0m\u001b[0;34m\u001b[0m\u001b[0m\n\u001b[1;32m    294\u001b[0m             \u001b[0;32mif\u001b[0m \u001b[0mtimeout\u001b[0m \u001b[0;32mis\u001b[0m \u001b[0;32mNone\u001b[0m\u001b[0;34m:\u001b[0m\u001b[0;34m\u001b[0m\u001b[0m\n\u001b[0;32m--> 295\u001b[0;31m                 \u001b[0mwaiter\u001b[0m\u001b[0;34m.\u001b[0m\u001b[0macquire\u001b[0m\u001b[0;34m(\u001b[0m\u001b[0;34m)\u001b[0m\u001b[0;34m\u001b[0m\u001b[0m\n\u001b[0m\u001b[1;32m    296\u001b[0m                 \u001b[0mgotit\u001b[0m \u001b[0;34m=\u001b[0m \u001b[0;32mTrue\u001b[0m\u001b[0;34m\u001b[0m\u001b[0m\n\u001b[1;32m    297\u001b[0m             \u001b[0;32melse\u001b[0m\u001b[0;34m:\u001b[0m\u001b[0;34m\u001b[0m\u001b[0m\n",
            "\u001b[0;31mKeyboardInterrupt\u001b[0m: "
          ]
        }
      ]
    },
    {
      "metadata": {
        "id": "7dMFAST4H6rj",
        "colab_type": "code",
        "colab": {}
      },
      "cell_type": "code",
      "source": [
        ""
      ],
      "execution_count": 0,
      "outputs": []
    }
  ]
}