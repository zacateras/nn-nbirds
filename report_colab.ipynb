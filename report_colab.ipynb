{
  "nbformat": 4,
  "nbformat_minor": 0,
  "metadata": {
    "colab": {
      "name": "nn-nbirds.ipynb",
      "version": "0.3.2",
      "provenance": [],
      "collapsed_sections": []
    },
    "kernelspec": {
      "name": "python3",
      "display_name": "Python 3"
    },
    "accelerator": "GPU"
  },
  "cells": [
    {
      "cell_type": "markdown",
      "metadata": {
        "id": "view-in-github",
        "colab_type": "text"
      },
      "source": [
        "[View in Colaboratory](https://colab.research.google.com/github/zacateras/nn-nbirds/blob/master/report_colab.ipynb)"
      ]
    },
    {
      "metadata": {
        "id": "Wb6yct3-XdMd",
        "colab_type": "code",
        "colab": {
          "base_uri": "https://localhost:8080/",
          "height": 1349
        },
        "outputId": "83c0a461-3966-4cae-f7f2-929520ec2f5e"
      },
      "cell_type": "code",
      "source": [
        "% cd ~\n",
        "\n",
        "# Remove the environment\n",
        "! if [ -d \"nn-nbirds\" ]; then rm -rf \"nn-nbirds\"; fi\n",
        "# ! pip freeze | xargs pip uninstall -y\n",
        "\n",
        "# Build the environment \n",
        "! git clone https://github.com/zacateras/nn-nbirds.git\n",
        "% cd ./nn-nbirds\n",
        "! pip install -r requirements.txt"
      ],
      "execution_count": 15,
      "outputs": [
        {
          "output_type": "stream",
          "text": [
            "/content\n",
            "Cloning into 'nn-nbirds'...\n",
            "remote: Counting objects: 36, done.\u001b[K\n",
            "remote: Compressing objects: 100% (26/26), done.\u001b[K\n",
            "remote: Total 36 (delta 12), reused 28 (delta 7), pack-reused 0\u001b[K\n",
            "Unpacking objects: 100% (36/36), done.\n",
            "/content/nn-nbirds\n",
            "Requirement already satisfied: absl-py==0.2.0 in /usr/local/lib/python3.6/dist-packages (from -r requirements.txt (line 1))\n",
            "Requirement already satisfied: appnope==0.1.0 in /usr/local/lib/python3.6/dist-packages (from -r requirements.txt (line 2))\n",
            "Requirement already satisfied: astor==0.6.2 in /usr/local/lib/python3.6/dist-packages (from -r requirements.txt (line 3))\n",
            "Requirement already satisfied: backcall==0.1.0 in /usr/local/lib/python3.6/dist-packages (from -r requirements.txt (line 4))\n",
            "Requirement already satisfied: bleach==1.5.0 in /usr/local/lib/python3.6/dist-packages (from -r requirements.txt (line 5))\n",
            "Requirement already satisfied: decorator==4.3.0 in /usr/local/lib/python3.6/dist-packages (from -r requirements.txt (line 6))\n",
            "Requirement already satisfied: entrypoints==0.2.3 in /usr/local/lib/python3.6/dist-packages (from -r requirements.txt (line 7))\n",
            "Requirement already satisfied: gast==0.2.0 in /usr/local/lib/python3.6/dist-packages (from -r requirements.txt (line 8))\n",
            "Requirement already satisfied: graphviz==0.8.2 in /usr/local/lib/python3.6/dist-packages (from -r requirements.txt (line 9))\n",
            "Requirement already satisfied: grpcio==1.11.0 in /usr/local/lib/python3.6/dist-packages (from -r requirements.txt (line 10))\n",
            "Requirement already satisfied: h5py==2.7.1 in /usr/local/lib/python3.6/dist-packages (from -r requirements.txt (line 11))\n",
            "Requirement already satisfied: html5lib==0.9999999 in /usr/local/lib/python3.6/dist-packages (from -r requirements.txt (line 12))\n",
            "Requirement already satisfied: ipykernel==4.8.2 in /usr/local/lib/python3.6/dist-packages (from -r requirements.txt (line 13))\n",
            "Requirement already satisfied: ipython==6.3.1 in /usr/local/lib/python3.6/dist-packages (from -r requirements.txt (line 14))\n",
            "Requirement already satisfied: ipython-genutils==0.2.0 in /usr/local/lib/python3.6/dist-packages (from -r requirements.txt (line 15))\n",
            "Requirement already satisfied: ipywidgets==7.2.1 in /usr/local/lib/python3.6/dist-packages (from -r requirements.txt (line 16))\n",
            "Requirement already satisfied: jedi==0.12.0 in /usr/local/lib/python3.6/dist-packages (from -r requirements.txt (line 17))\n",
            "Requirement already satisfied: Jinja2==2.10 in /usr/local/lib/python3.6/dist-packages (from -r requirements.txt (line 18))\n",
            "Requirement already satisfied: jsonschema==2.6.0 in /usr/local/lib/python3.6/dist-packages (from -r requirements.txt (line 19))\n",
            "Requirement already satisfied: jupyter==1.0.0 in /usr/local/lib/python3.6/dist-packages (from -r requirements.txt (line 20))\n",
            "Requirement already satisfied: jupyter-client==5.2.3 in /usr/local/lib/python3.6/dist-packages (from -r requirements.txt (line 21))\n",
            "Requirement already satisfied: jupyter-console==5.2.0 in /usr/local/lib/python3.6/dist-packages (from -r requirements.txt (line 22))\n",
            "Requirement already satisfied: jupyter-core==4.4.0 in /usr/local/lib/python3.6/dist-packages (from -r requirements.txt (line 23))\n",
            "Requirement already satisfied: Keras==2.1.5 in /usr/local/lib/python3.6/dist-packages (from -r requirements.txt (line 24))\n",
            "Requirement already satisfied: Markdown==2.6.11 in /usr/local/lib/python3.6/dist-packages (from -r requirements.txt (line 25))\n",
            "Requirement already satisfied: MarkupSafe==1.0 in /usr/local/lib/python3.6/dist-packages (from -r requirements.txt (line 26))\n",
            "Requirement already satisfied: mistune==0.8.3 in /usr/local/lib/python3.6/dist-packages (from -r requirements.txt (line 27))\n",
            "Requirement already satisfied: nbconvert==5.3.1 in /usr/local/lib/python3.6/dist-packages (from -r requirements.txt (line 28))\n",
            "Requirement already satisfied: nbformat==4.4.0 in /usr/local/lib/python3.6/dist-packages (from -r requirements.txt (line 29))\n",
            "Requirement already satisfied: notebook==5.4.1 in /usr/local/lib/python3.6/dist-packages (from -r requirements.txt (line 30))\n",
            "Requirement already satisfied: numpy==1.14.2 in /usr/local/lib/python3.6/dist-packages (from -r requirements.txt (line 31))\n",
            "Requirement already satisfied: opencv-python==3.4.0.12 in /usr/local/lib/python3.6/dist-packages (from -r requirements.txt (line 32))\n",
            "Requirement already satisfied: pandas==0.22.0 in /usr/local/lib/python3.6/dist-packages (from -r requirements.txt (line 33))\n",
            "Requirement already satisfied: pandocfilters==1.4.2 in /usr/local/lib/python3.6/dist-packages (from -r requirements.txt (line 34))\n",
            "Requirement already satisfied: parso==0.2.0 in /usr/local/lib/python3.6/dist-packages (from -r requirements.txt (line 35))\n",
            "Requirement already satisfied: pexpect==4.5.0 in /usr/local/lib/python3.6/dist-packages (from -r requirements.txt (line 36))\n",
            "Requirement already satisfied: pickleshare==0.7.4 in /usr/local/lib/python3.6/dist-packages (from -r requirements.txt (line 37))\n",
            "Requirement already satisfied: Pillow==5.1.0 in /usr/local/lib/python3.6/dist-packages (from -r requirements.txt (line 38))\n",
            "Requirement already satisfied: prompt-toolkit==1.0.15 in /usr/local/lib/python3.6/dist-packages (from -r requirements.txt (line 39))\n",
            "Requirement already satisfied: protobuf==3.5.2.post1 in /usr/local/lib/python3.6/dist-packages (from -r requirements.txt (line 40))\n",
            "Requirement already satisfied: ptyprocess==0.5.2 in /usr/local/lib/python3.6/dist-packages (from -r requirements.txt (line 41))\n",
            "Requirement already satisfied: pydot==1.2.4 in /usr/local/lib/python3.6/dist-packages (from -r requirements.txt (line 42))\n",
            "Requirement already satisfied: Pygments==2.2.0 in /usr/local/lib/python3.6/dist-packages (from -r requirements.txt (line 43))\n",
            "Requirement already satisfied: pyparsing==2.2.0 in /usr/local/lib/python3.6/dist-packages (from -r requirements.txt (line 44))\n",
            "Requirement already satisfied: python-dateutil==2.7.2 in /usr/local/lib/python3.6/dist-packages (from -r requirements.txt (line 45))\n",
            "Requirement already satisfied: pytz==2018.4 in /usr/local/lib/python3.6/dist-packages (from -r requirements.txt (line 46))\n",
            "Requirement already satisfied: PyYAML==3.12 in /usr/local/lib/python3.6/dist-packages (from -r requirements.txt (line 47))\n",
            "Requirement already satisfied: pyzmq==17.0.0 in /usr/local/lib/python3.6/dist-packages (from -r requirements.txt (line 48))\n",
            "Requirement already satisfied: qtconsole==4.3.1 in /usr/local/lib/python3.6/dist-packages (from -r requirements.txt (line 49))\n",
            "Requirement already satisfied: scipy==1.0.1 in /usr/local/lib/python3.6/dist-packages (from -r requirements.txt (line 50))\n",
            "Requirement already satisfied: Send2Trash==1.5.0 in /usr/local/lib/python3.6/dist-packages (from -r requirements.txt (line 51))\n",
            "Requirement already satisfied: simplegeneric==0.8.1 in /usr/local/lib/python3.6/dist-packages (from -r requirements.txt (line 52))\n",
            "Requirement already satisfied: six==1.11.0 in /usr/local/lib/python3.6/dist-packages (from -r requirements.txt (line 53))\n",
            "Requirement already satisfied: tensorboard==1.7.0 in /usr/local/lib/python3.6/dist-packages (from -r requirements.txt (line 54))\n",
            "Requirement already satisfied: tensorflow==1.7.0 in /usr/local/lib/python3.6/dist-packages (from -r requirements.txt (line 55))\n",
            "Requirement already satisfied: termcolor==1.1.0 in /usr/local/lib/python3.6/dist-packages (from -r requirements.txt (line 56))\n",
            "Requirement already satisfied: terminado==0.8.1 in /usr/local/lib/python3.6/dist-packages (from -r requirements.txt (line 57))\n",
            "Requirement already satisfied: testpath==0.3.1 in /usr/local/lib/python3.6/dist-packages (from -r requirements.txt (line 58))\n",
            "Requirement already satisfied: tornado==5.0.2 in /usr/local/lib/python3.6/dist-packages (from -r requirements.txt (line 59))\n",
            "Requirement already satisfied: traitlets==4.3.2 in /usr/local/lib/python3.6/dist-packages (from -r requirements.txt (line 60))\n",
            "Requirement already satisfied: wcwidth==0.1.7 in /usr/local/lib/python3.6/dist-packages (from -r requirements.txt (line 61))\n",
            "Requirement already satisfied: Werkzeug==0.14.1 in /usr/local/lib/python3.6/dist-packages (from -r requirements.txt (line 62))\n",
            "Requirement already satisfied: widgetsnbextension==3.2.1 in /usr/local/lib/python3.6/dist-packages (from -r requirements.txt (line 63))\n",
            "Requirement already satisfied: setuptools>=18.5 in /usr/local/lib/python3.6/dist-packages (from ipython==6.3.1->-r requirements.txt (line 14))\n",
            "Requirement already satisfied: wheel>=0.26; python_version >= \"3\" in /usr/local/lib/python3.6/dist-packages (from tensorboard==1.7.0->-r requirements.txt (line 54))\n",
            "\u001b[33mYou are using pip version 9.0.3, however version 10.0.1 is available.\n",
            "You should consider upgrading via the 'pip install --upgrade pip' command.\u001b[0m\n"
          ],
          "name": "stdout"
        }
      ]
    },
    {
      "metadata": {
        "id": "j8ESpbziYk61",
        "colab_type": "code",
        "colab": {
          "base_uri": "https://localhost:8080/",
          "height": 305
        },
        "outputId": "2d5a2189-50df-49cf-d0ae-cbca65b03bbd"
      },
      "cell_type": "code",
      "source": [
        "# Download the dataset\n",
        "! ./download.sh"
      ],
      "execution_count": 16,
      "outputs": [
        {
          "output_type": "stream",
          "text": [
            "--2018-04-25 20:34:22--  https://www.dropbox.com/s/fi2g3zxsn0pdmn1/nbirds.zip\r\n",
            "Resolving www.dropbox.com (www.dropbox.com)... 162.125.1.1, 2620:100:601a:1::a27d:701\r\n",
            "Connecting to www.dropbox.com (www.dropbox.com)|162.125.1.1|:443... connected.\n",
            "HTTP request sent, awaiting response... 302 Found\n",
            "Location: https://dl.dropboxusercontent.com/content_link/xqewx72E7wD5DrSgNjmqGuhxtWLCM15Sf8HqARHxi4KrPmuTTL7NkEAN5wgvEbXZ/file [following]\n",
            "--2018-04-25 20:34:23--  https://dl.dropboxusercontent.com/content_link/xqewx72E7wD5DrSgNjmqGuhxtWLCM15Sf8HqARHxi4KrPmuTTL7NkEAN5wgvEbXZ/file\n",
            "Resolving dl.dropboxusercontent.com (dl.dropboxusercontent.com)... 162.125.7.6, 2620:100:601a:6::a27d:706\n",
            "Connecting to dl.dropboxusercontent.com (dl.dropboxusercontent.com)|162.125.7.6|:443... connected.\n",
            "HTTP request sent, awaiting response... 200 OK\n",
            "Length: 623160299 (594M) [application/zip]\n",
            "Saving to: ‘/content/nn-nbirds/data/nbirds.zip’\n",
            "\n",
            "/content/nn-nbirds/ 100%[===================>] 594.29M  32.8MB/s    in 19s     \n",
            "\n",
            "2018-04-25 20:34:44 (31.0 MB/s) - ‘/content/nn-nbirds/data/nbirds.zip’ saved [623160299/623160299]\n",
            "\n"
          ],
          "name": "stdout"
        }
      ]
    },
    {
      "metadata": {
        "id": "h2rzamJxg582",
        "colab_type": "code",
        "colab": {}
      },
      "cell_type": "code",
      "source": [
        "from preprocess import *\n",
        "\n",
        "# preprocess and load txt ds metadata\n",
        "ds_meta = build_ds_meta()"
      ],
      "execution_count": 0,
      "outputs": []
    },
    {
      "metadata": {
        "id": "-_E1Bck1hJnf",
        "colab_type": "code",
        "colab": {
          "base_uri": "https://localhost:8080/",
          "height": 143
        },
        "outputId": "62fbeadd-ec4f-4f03-c314-c1c4f49298e6"
      },
      "cell_type": "code",
      "source": [
        "for ds_meta_item in ds_meta:\n",
        "    print('Quantity of %s: %s' % (ds_meta_item, ds_meta[ds_meta_item].count()[0]))"
      ],
      "execution_count": 26,
      "outputs": [
        {
          "output_type": "stream",
          "text": [
            "Quantity of bounding_boxes: 48562\n",
            "Quantity of classes: 1011\n",
            "Quantity of hierarchy: 1010\n",
            "Quantity of image_class_labels: 48562\n",
            "Quantity of images: 48562\n",
            "Quantity of photographers: 48562\n",
            "Quantity of sizes: 48562\n"
          ],
          "name": "stdout"
        }
      ]
    },
    {
      "metadata": {
        "id": "-POd5m4EiA7G",
        "colab_type": "code",
        "colab": {}
      },
      "cell_type": "code",
      "source": [
        "# BASE               SET_A\n",
        "# + Bounding box  => SET_A_BB               (del)\n",
        "# + Gabor filter  => SET_A_BB_GF            (del)\n",
        "# + TVT splitting => SET_A_BB_GF_train\n",
        "#                    SET_A_BB_GF_validation\n",
        "#                    SET_A_BB_GF_test\n",
        "\n",
        "apply_bounding_box('data/SET_A', 'data/SET_A_BB', ds_meta)\n",
        "apply_gabor_filter('data/SET_A_BB', 'data/SET_A_BB_GF')\n",
        "apply_tvt_split('data/SET_A_BB_GF')"
      ],
      "execution_count": 0,
      "outputs": []
    },
    {
      "metadata": {
        "id": "Bg0yoHp1iF3-",
        "colab_type": "code",
        "colab": {
          "base_uri": "https://localhost:8080/",
          "height": 35
        },
        "outputId": "fe252d63-8c7d-46a9-9d6e-af97d11a39ab"
      },
      "cell_type": "code",
      "source": [
        "import os\n",
        "\n",
        "from keras.preprocessing.image import ImageDataGenerator\n",
        "from keras.models import Sequential\n",
        "from keras.layers import Activation, Dropout, Flatten, Dense"
      ],
      "execution_count": 5,
      "outputs": [
        {
          "output_type": "stream",
          "text": [
            "Using TensorFlow backend.\n"
          ],
          "name": "stderr"
        }
      ]
    },
    {
      "metadata": {
        "id": "NKZL5ACblgQm",
        "colab_type": "code",
        "colab": {
          "base_uri": "https://localhost:8080/",
          "height": 35
        },
        "outputId": "d18ed79e-f781-40f7-97c8-78c46faf41dc"
      },
      "cell_type": "code",
      "source": [
        "import tensorflow as tf\n",
        "tf.test.gpu_device_name()"
      ],
      "execution_count": 7,
      "outputs": [
        {
          "output_type": "execute_result",
          "data": {
            "text/plain": [
              "'/device:GPU:0'"
            ]
          },
          "metadata": {
            "tags": []
          },
          "execution_count": 7
        }
      ]
    },
    {
      "metadata": {
        "id": "AonKejzcjJ1s",
        "colab_type": "code",
        "colab": {
          "base_uri": "https://localhost:8080/",
          "height": 251
        },
        "outputId": "f1c3c890-ed4e-472c-9a11-b65ac39ec59a"
      },
      "cell_type": "code",
      "source": [
        "batch_size = 16\n",
        "\n",
        "train_labels = os.listdir('data/SET_A_BB_GF_train')\n",
        "\n",
        "train_datagen = ImageDataGenerator(\n",
        "    rescale=1./255,\n",
        "    shear_range=0.2,\n",
        "    zoom_range=0.2,\n",
        "    horizontal_flip=True)\n",
        "\n",
        "train_generator = train_datagen.flow_from_directory(\n",
        "    'data/SET_A_BB_GF_train',\n",
        "    target_size=(150, 150),\n",
        "    batch_size=batch_size,\n",
        "    classes=train_labels)\n",
        "\n",
        "model = Sequential()\n",
        "model.add(Flatten(input_shape=(150, 150, 3))) \n",
        "model.add(Dense(256))\n",
        "model.add(Dense(512))\n",
        "model.add(Dense(len(train_labels)))\n",
        "model.add(Activation('sigmoid'))\n",
        "\n",
        "model.compile(loss='categorical_crossentropy',\n",
        "              optimizer='adam',\n",
        "              metrics=['accuracy'])\n",
        "\n",
        "model.fit_generator(\n",
        "        train_generator,\n",
        "        steps_per_epoch=2000 // batch_size,\n",
        "        epochs=50)"
      ],
      "execution_count": 0,
      "outputs": [
        {
          "output_type": "stream",
          "text": [
            "Found 2103 images belonging to 50 classes.\n",
            "Epoch 1/50\n",
            "125/125 [==============================] - 20s 161ms/step - loss: 10.0366 - acc: 0.0200\n",
            "Epoch 2/50\n",
            "125/125 [==============================] - 20s 163ms/step - loss: 10.3155 - acc: 0.0190\n",
            "Epoch 3/50\n",
            "125/125 [==============================] - 20s 164ms/step - loss: 10.5751 - acc: 0.0215\n",
            "Epoch 4/50\n",
            " 27/125 [=====>........................] - ETA: 16s - loss: 9.9018 - acc: 0.0185"
          ],
          "name": "stdout"
        },
        {
          "output_type": "stream",
          "text": [
            "125/125 [==============================] - 20s 162ms/step - loss: 10.2485 - acc: 0.0195\n",
            "Epoch 5/50\n",
            "125/125 [==============================] - 20s 161ms/step - loss: 10.2719 - acc: 0.0215\n",
            "Epoch 6/50\n",
            "101/125 [=======================>......] - ETA: 3s - loss: 10.6353 - acc: 0.0161"
          ],
          "name": "stdout"
        }
      ]
    },
    {
      "metadata": {
        "id": "3eT0xDDJmSUI",
        "colab_type": "code",
        "colab": {}
      },
      "cell_type": "code",
      "source": [
        ""
      ],
      "execution_count": 0,
      "outputs": []
    }
  ]
}