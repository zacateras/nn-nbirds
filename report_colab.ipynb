{
  "nbformat": 4,
  "nbformat_minor": 0,
  "metadata": {
    "colab": {
      "name": "Copy of nn-nbirds.ipynb",
      "version": "0.3.2",
      "provenance": [],
      "collapsed_sections": []
    },
    "kernelspec": {
      "name": "python3",
      "display_name": "Python 3"
    },
    "accelerator": "GPU"
  },
  "cells": [
    {
      "cell_type": "markdown",
      "metadata": {
        "id": "view-in-github",
        "colab_type": "text"
      },
      "source": [
        "[View in Colaboratory](https://colab.research.google.com/github/zacateras/nn-nbirds/blob/master/report_colab.ipynb)"
      ]
    },
    {
      "metadata": {
        "id": "YShRmkT8DMW5",
        "colab_type": "text"
      },
      "cell_type": "markdown",
      "source": [
        "Michał Sitko \\\n",
        "Michał Chmielowiec \\\n",
        "Andrzej Dawidziuk \\\n",
        "\n",
        "# Neural Networks (SNR) 2018L - Preliminary Report\n",
        "\n",
        "\n",
        "---\n"
      ]
    },
    {
      "metadata": {
        "id": "Sbo5rRPSmrYx",
        "colab_type": "text"
      },
      "cell_type": "markdown",
      "source": [
        "We decided to use [Google Collaboratory](https://colab.research.google.com) as a main platform for project development. So called Colab was developed by Google internally from year 2014 as a tool dedicated for machine learning reaserch. Now it is publicly available as a side Google Drive service.\n",
        "\n",
        "Colab is an online version of Jupyter Notebook - a web application that allows its users to create and share documents that contain live code, equations, visualizations and narrative text. Usually Jupyter Notebooks are hosted locally on researchers' machines. Very often these machines are not equipped with processing units suited for complex calculations. Locally prepared Jupyter reports are printed as PDF documents and then statically distributed.\n",
        "\n",
        "Google Colab provides online version of Jupyter server with exposed by very convenient web interface. Each Google Drive account is allowed to use one Jupyter Notebook environment. Technically, environments are setup inside cloud hosted, UNIX type, Docker containers. The containers' virtual hard drives can expand to the maximum space available for particular account in its Google Drive service. Furthermore the container environment has access to pretty powerful computing resources: quad core CPU and Tesla K80 GPU. We should note here that those resources are shared by multiple users and thus its base performance may vary.\n",
        "\n",
        "This report was prepared in Colab."
      ]
    },
    {
      "metadata": {
        "id": "2YRBDHnKwHX5",
        "colab_type": "text"
      },
      "cell_type": "markdown",
      "source": [
        "Let's ensure that the installed Python version is at least 3.6. It happens occasionally that containers are initialized with Python 2.7 kernels despite the fact that they are the higher is configured. In such situation the hypervisor should be rebooted (i.e. by invoking a kill command)."
      ]
    },
    {
      "metadata": {
        "id": "UvFrie12LmWO",
        "colab_type": "code",
        "colab": {
          "base_uri": "https://localhost:8080/",
          "height": 35
        },
        "outputId": "f9ff8644-d291-4887-a36e-4f8620be21c3"
      },
      "cell_type": "code",
      "source": [
        "# If python3 is not loaded kill the hypervisor\n",
        "# ! kill -9 -1\n",
        "import sys\n",
        "sys.version"
      ],
      "execution_count": 1,
      "outputs": [
        {
          "output_type": "execute_result",
          "data": {
            "text/plain": [
              "'3.6.3 (default, Oct  3 2017, 21:45:48) \\n[GCC 7.2.0]'"
            ]
          },
          "metadata": {
            "tags": []
          },
          "execution_count": 1
        }
      ]
    },
    {
      "metadata": {
        "id": "XjnR7ja23LDp",
        "colab_type": "text"
      },
      "cell_type": "markdown",
      "source": [
        "Now we will clone the project repository and install required pip packages. Interactive shell can be accessed inline by prefixing commands with an exclamation mark (!)."
      ]
    },
    {
      "metadata": {
        "id": "Wb6yct3-XdMd",
        "colab_type": "code",
        "colab": {
          "base_uri": "https://localhost:8080/",
          "height": 179
        },
        "outputId": "bb62aed6-09d9-46c9-f7cc-8be7e93f845c"
      },
      "cell_type": "code",
      "source": [
        "% cd ~\n",
        "\n",
        "# Remove the environment\n",
        "! if [ -d \"nn-nbirds\" ]; then rm -rf \"nn-nbirds\"; fi\n",
        "# ! pip freeze | xargs pip uninstall -y\n",
        "\n",
        "# Build the environment \n",
        "! git clone https://github.com/zacateras/nn-nbirds.git\n",
        "% cd ./nn-nbirds\n",
        "! pip install -r requirements.txt > pip.log\n",
        "# Those below fixes the issue with keras @ Colab\n",
        "! pip install Pillow==4.0.0 -q\n",
        "! pip install PIL -q\n",
        "! pip install image -q"
      ],
      "execution_count": 2,
      "outputs": [
        {
          "output_type": "stream",
          "text": [
            "/content\n",
            "Cloning into 'nn-nbirds'...\n",
            "remote: Counting objects: 90, done.\u001b[K\n",
            "remote: Compressing objects: 100% (65/65), done.\u001b[K\n",
            "remote: Total 90 (delta 44), reused 61 (delta 22), pack-reused 0\u001b[K\n",
            "Unpacking objects: 100% (90/90), done.\n",
            "/content/nn-nbirds\n",
            "\u001b[31m  Could not find a version that satisfies the requirement PIL (from versions: )\u001b[0m\n",
            "\u001b[31mNo matching distribution found for PIL\u001b[0m\n"
          ],
          "name": "stdout"
        }
      ]
    },
    {
      "metadata": {
        "id": "kR5kwNaflYO9",
        "colab_type": "text"
      },
      "cell_type": "markdown",
      "source": [
        "The whole nbirds database was stored in dropbox as a zip blob. We prepared automated shell script for downloading and unzipping it. Let's use it now."
      ]
    },
    {
      "metadata": {
        "id": "j8ESpbziYk61",
        "colab_type": "code",
        "colab": {
          "base_uri": "https://localhost:8080/",
          "height": 305
        },
        "outputId": "563839a8-5d4f-4691-9938-2253beeb1ce3"
      },
      "cell_type": "code",
      "source": [
        "# Download the dataset\n",
        "! ./download.sh"
      ],
      "execution_count": 3,
      "outputs": [
        {
          "output_type": "stream",
          "text": [
            "--2018-04-27 21:57:30--  https://www.dropbox.com/s/fi2g3zxsn0pdmn1/nbirds.zip\n",
            "Resolving www.dropbox.com (www.dropbox.com)... 162.125.9.1, 2620:100:6022:1::a27d:4201\n",
            "Connecting to www.dropbox.com (www.dropbox.com)|162.125.9.1|:443... connected.\n",
            "HTTP request sent, awaiting response... 302 Found\n",
            "Location: https://dl.dropboxusercontent.com/content_link/QNQw0sdwaubYwbUc3BkpoHQZlN2U0D0jSqNDVPkJkRoyxFrQ7FIBMSSlyugEGIDU/file [following]\n",
            "--2018-04-27 21:57:30--  https://dl.dropboxusercontent.com/content_link/QNQw0sdwaubYwbUc3BkpoHQZlN2U0D0jSqNDVPkJkRoyxFrQ7FIBMSSlyugEGIDU/file\n",
            "Resolving dl.dropboxusercontent.com (dl.dropboxusercontent.com)... 162.125.8.6, 2620:100:601f:6::a27d:906\n",
            "Connecting to dl.dropboxusercontent.com (dl.dropboxusercontent.com)|162.125.8.6|:443... connected.\n",
            "HTTP request sent, awaiting response... 200 OK\n",
            "Length: 623160299 (594M) [application/zip]\n",
            "Saving to: ‘/content/nn-nbirds/data/nbirds.zip’\n",
            "\n",
            "/content/nn-nbirds/ 100%[===================>] 594.29M  32.3MB/s    in 19s     \n",
            "\n",
            "2018-04-27 21:57:51 (30.5 MB/s) - ‘/content/nn-nbirds/data/nbirds.zip’ saved [623160299/623160299]\n",
            "\n"
          ],
          "name": "stdout"
        }
      ]
    },
    {
      "metadata": {
        "id": "K22c_cr5mBU-",
        "colab_type": "text"
      },
      "cell_type": "markdown",
      "source": [
        "Colab runtime can provide stable and fast internet connection. ~45MB/s average download speed should be noted here."
      ]
    },
    {
      "metadata": {
        "id": "qLIvo2acDi_C",
        "colab_type": "text"
      },
      "cell_type": "markdown",
      "source": [
        "## Database analysis\n",
        "Dostarczona baza danych zawiera 48562 zdjęć ptaków należących do 555 klas (gatunków). Rozkład liczby zdjęć należących do poszczególnych klas przedstawia Wykres 1. Puste miejsca na histogramie świadczą o większej ilości klas niż wynika to ze zbioru zdjęć, co zostało wyjaśnione niżej. \\\n",
        "\n"
      ]
    },
    {
      "metadata": {
        "id": "YJPRqsvmfI3x",
        "colab_type": "code",
        "colab": {
          "base_uri": "https://localhost:8080/",
          "height": 295
        },
        "outputId": "6b59ae3d-6810-46dc-a984-dc7138e2028d"
      },
      "cell_type": "code",
      "source": [
        "import matplotlib.pyplot as plt\n",
        "import numpy as np\n",
        "#show database content chart\n",
        "\n",
        "data = np.genfromtxt('data/image_class_labels.txt', delimiter=' ', usecols = (1),\n",
        "                    dtype=int)\n",
        "          \n",
        "unique, counts = np.unique(data, return_counts=True)\n",
        "plt.bar(unique, counts)\n",
        "plt.ylabel('Liczba zdjec w klasie')\n",
        "plt.xlabel('Numer klasy')\n",
        "plt.title('Wykres 1. Rozkład liczby zdjęć w poszczególnych klasach')\n",
        "plt.show()"
      ],
      "execution_count": 4,
      "outputs": [
        {
          "output_type": "display_data",
          "data": {
            "image/png": "[encoded data removed]",
            "text/plain": [
              "<matplotlib.figure.Figure at 0x7efeea7a2320>"
            ]
          },
          "metadata": {
            "tags": []
          }
        }
      ]
    },
    {
      "metadata": {
        "id": "m5yImoI0EYu3",
        "colab_type": "text"
      },
      "cell_type": "markdown",
      "source": [
        "Ponieważ poszczególne klasy odpowiadają konkretnym gatunkom ptaków, możliwym było zbudowanie hierarchii klas przypominającej biologiczną systematykę organizmów. Taka hierarchia została dostarczona wraz z bazą, a jej drzewo w formie graficznej przedstawia wygenerowany w trakcie prac nad projektem obraz w formacie SVG dostępny w postaci poniższego linku: \\\n",
        "[Hierarchia klas ptaków](http://mion.elka.pw.edu.pl/~mchmielo/tmp/nbirds_hierarchy.svg) \\\n",
        "Wszystkich klas w hierarchii jest 1011. Oprócz informacji na temat przynależności zdjęć do poszczególnych klas oraz samej hierarchii klas, baza dostarcza informacje na temat Autorów oraz rozmiarów zdjęć. Ważną informacją zawartą w bazie są rozmiary *bounding box* czyli rozmiarów najmniejszych prostokątów w których zawarte są w całości obiekty będące przedstawicielami poszczególnych gatunków ptaków na badanych zdjęciach. Pozwoliło to znacznie ograniczyć rozmiar danych do klasyfikatora. Nazwy plików graficznych są powiązane z wyżej opisanymi danymi za pomocą unikalnych identyfikatorów *image_guid*. Zależności pomiędzy plikami bazy dobrze odzwierciedla Diagram 1. \\\n",
        " \\\n",
        "**Diagram 1** Wizualizacja powiązań plików bazy danych ![Diagram 1](https://raw.githubusercontent.com/zacateras/nn-nbirds/master/assets/dataset.png) \\"
      ]
    },
    {
      "metadata": {
        "id": "pwRHQ6Eq6GAG",
        "colab_type": "text"
      },
      "cell_type": "markdown",
      "source": [
        "Now we will load our script for metadata loading & dataset preprocessing."
      ]
    },
    {
      "metadata": {
        "id": "h2rzamJxg582",
        "colab_type": "code",
        "colab": {}
      },
      "cell_type": "code",
      "source": [
        "from preprocess import *"
      ],
      "execution_count": 0,
      "outputs": []
    },
    {
      "metadata": {
        "id": "-_E1Bck1hJnf",
        "colab_type": "code",
        "colab": {
          "base_uri": "https://localhost:8080/",
          "height": 143
        },
        "outputId": "fd0454a9-9e6d-441c-ab34-3f8512290ccb"
      },
      "cell_type": "code",
      "source": [
        "ds_meta = build_ds_meta()\n",
        "\n",
        "for ds_meta_item in ds_meta:\n",
        "    print('Quantity of %s: %s' % (ds_meta_item, ds_meta[ds_meta_item].count()[0]))"
      ],
      "execution_count": 6,
      "outputs": [
        {
          "output_type": "stream",
          "text": [
            "Quantity of bounding_boxes: 48562\n",
            "Quantity of classes: 1011\n",
            "Quantity of hierarchy: 1010\n",
            "Quantity of image_class_labels: 48562\n",
            "Quantity of images: 48562\n",
            "Quantity of photographers: 48562\n",
            "Quantity of sizes: 48562\n"
          ],
          "name": "stdout"
        }
      ]
    },
    {
      "metadata": {
        "id": "4bzzUG467Eiw",
        "colab_type": "text"
      },
      "cell_type": "markdown",
      "source": [
        "In order to prepare dataset images library for feature extraction we shall apply a few transformations. Let's define and execute them here. All pictures will be cropped with bounding boxes defined in metadata, resized to 150 / 150 dimensions, converted to grayscale and transformed with Gabor filter. Hyperparameters of the filter were adjusted, so that different color and contrast bounderies are exposed. New images will be copied to the separate folder, after then the whole dataset will be divided into train, cross-validation and test parts in (0.7 / 0.2 / 0.1 proportion)."
      ]
    },
    {
      "metadata": {
        "id": "-POd5m4EiA7G",
        "colab_type": "code",
        "colab": {}
      },
      "cell_type": "code",
      "source": [
        "class Transform:\n",
        "  def __init__(self, img, guid, ds_meta):\n",
        "    self.img = img\n",
        "    self.guid = guid\n",
        "    self.ds_meta = ds_meta\n",
        "  \n",
        "  def resize(self):\n",
        "      img = cv2.resize(self.img, (150, 150))\n",
        "      return self\n",
        "\n",
        "  def greyscale(self):\n",
        "      img = cv2.cvtColor(self.img, cv2.COLOR_BGR2GRAY)\n",
        "      return self\n",
        "\n",
        "  def gabor_filter(self):\n",
        "      g_kernel = cv2.getGaborKernel((15, 15), 0.66, np.pi/8, 1.3, 0.5, 0, ktype=cv2.CV_32F)\n",
        "\n",
        "      img = cv2.normalize(cv2.filter2D(self.img, cv2.CV_8UC3, g_kernel),\n",
        "                           None,\n",
        "                           alpha=0,\n",
        "                           beta=255,\n",
        "                           norm_type=cv2.NORM_MINMAX,\n",
        "                           dtype=cv2.CV_32F)\n",
        "      \n",
        "      return self\n",
        "\n",
        "# BASE               SET_A\n",
        "# + Bounding box  => SET_A_BB               (del)\n",
        "# + Gabor filter  => SET_A_BB_GF            (del)\n",
        "# + TVT splitting => SET_A_BB_GF_train\n",
        "#                    SET_A_BB_GF_validation\n",
        "#                    SET_A_BB_GF_test\n",
        "\n",
        "apply(bounding_box, 'data/SET_A', 'data/SET_A_BB', ds_meta)\n",
        "apply(lambda img, guid, dsm: Transform(img, guid, ds_meta).resize().greyscale().gabor_filter().img, 'data/SET_A_BB', 'data/SET_A_BB_GF', ds_meta)\n",
        "apply_tvt_split('data/SET_A_BB_GF', train=0.7, test=0.2, validation=0.1)"
      ],
      "execution_count": 0,
      "outputs": []
    },
    {
      "metadata": {
        "id": "w9528Ww0IDw_",
        "colab_type": "text"
      },
      "cell_type": "markdown",
      "source": [
        "Example images before and after transformation are presented below:\n",
        "\n",
        "![](https://raw.githubusercontent.com/zacateras/nn-nbirds/master/assets/sample_before.jpg =320x220) ![](https://raw.githubusercontent.com/zacateras/nn-nbirds/master/assets/sample_after.jpg =220x220)"
      ]
    },
    {
      "metadata": {
        "id": "uAZffQWB_P7U",
        "colab_type": "text"
      },
      "cell_type": "markdown",
      "source": [
        "For building the model we will use Keras library. It is a high level deep neural network modeling toolset. It enables professionals to quickly prototype and train very complex networks, also it provides a rich set of functionalities for input data preprocessing, result model validation and many other. We will try to show a few of those functionalities in this report (and its continuation)."
      ]
    },
    {
      "metadata": {
        "id": "Wd0KwtxVB33U",
        "colab_type": "text"
      },
      "cell_type": "markdown",
      "source": [
        "Keras can run on top of different low level machine learning frameworks such as [TensorFlow](https://www.tensorflow.org/), [CNTK](https://docs.microsoft.com/pl-pl/cognitive-toolkit/), [Theano](http://www.deeplearning.net/software/theano/). We will stick to the most popular one with the most mature community."
      ]
    },
    {
      "metadata": {
        "id": "Bg0yoHp1iF3-",
        "colab_type": "code",
        "colab": {
          "base_uri": "https://localhost:8080/",
          "height": 35
        },
        "outputId": "85235028-b621-4d60-b25d-a069b399a2c7"
      },
      "cell_type": "code",
      "source": [
        "import os\n",
        "\n",
        "from keras.preprocessing.image import ImageDataGenerator\n",
        "from keras.models import Sequential\n",
        "from keras.layers import Activation, Dropout, Flatten, Dense"
      ],
      "execution_count": 8,
      "outputs": [
        {
          "output_type": "stream",
          "text": [
            "Using TensorFlow backend.\n"
          ],
          "name": "stderr"
        }
      ]
    },
    {
      "metadata": {
        "id": "ZoLxEzzYDR6g",
        "colab_type": "text"
      },
      "cell_type": "markdown",
      "source": [
        "GPU device is available!"
      ]
    },
    {
      "metadata": {
        "id": "NKZL5ACblgQm",
        "colab_type": "code",
        "colab": {
          "base_uri": "https://localhost:8080/",
          "height": 35
        },
        "outputId": "edd4c80c-2aae-49e5-c1eb-099fdcfb490e"
      },
      "cell_type": "code",
      "source": [
        "import tensorflow as tf\n",
        "tf.test.gpu_device_name()"
      ],
      "execution_count": 9,
      "outputs": [
        {
          "output_type": "execute_result",
          "data": {
            "text/plain": [
              "'/device:GPU:0'"
            ]
          },
          "metadata": {
            "tags": []
          },
          "execution_count": 9
        }
      ]
    },
    {
      "metadata": {
        "id": "slzm0OuhDXL-",
        "colab_type": "text"
      },
      "cell_type": "markdown",
      "source": [
        "By calling appropriate backend methods we can get some more specific info concerning processing devices that are available."
      ]
    },
    {
      "metadata": {
        "id": "AL_Ws1eo0CQU",
        "colab_type": "code",
        "colab": {
          "base_uri": "https://localhost:8080/",
          "height": 287
        },
        "outputId": "5c298f38-3b28-469f-cbf3-60c2f334eec8"
      },
      "cell_type": "code",
      "source": [
        "from tensorflow.python.client import device_lib\n",
        "device_lib.list_local_devices()"
      ],
      "execution_count": 10,
      "outputs": [
        {
          "output_type": "execute_result",
          "data": {
            "text/plain": [
              "[name: \"/device:CPU:0\"\n",
              " device_type: \"CPU\"\n",
              " memory_limit: 268435456\n",
              " locality {\n",
              " }\n",
              " incarnation: 3488870340712929096, name: \"/device:GPU:0\"\n",
              " device_type: \"GPU\"\n",
              " memory_limit: 11288962663\n",
              " locality {\n",
              "   bus_id: 1\n",
              "   links {\n",
              "   }\n",
              " }\n",
              " incarnation: 13989086740330256603\n",
              " physical_device_desc: \"device: 0, name: Tesla K80, pci bus id: 0000:00:04.0, compute capability: 3.7\"]"
            ]
          },
          "metadata": {
            "tags": []
          },
          "execution_count": 10
        }
      ]
    },
    {
      "metadata": {
        "id": "AonKejzcjJ1s",
        "colab_type": "code",
        "colab": {
          "base_uri": "https://localhost:8080/",
          "height": 469
        },
        "outputId": "74f23b1f-dda7-417c-efea-2ad4dca48998"
      },
      "cell_type": "code",
      "source": [
        "batch_size = 32\n",
        "\n",
        "train_labels = os.listdir('data/SET_A_BB_GF_train')\n",
        "\n",
        "train_datagen = ImageDataGenerator(\n",
        "    rescale=1./255,\n",
        "    rotation_range=90,\n",
        "    width_shift_range=0.2,\n",
        "    height_shift_range=0.2)\n",
        "\n",
        "test_datagen = ImageDataGenerator(rescale=1./255)\n",
        "\n",
        "train_generator = train_datagen.flow_from_directory(\n",
        "    'data/SET_A_BB_GF_train',\n",
        "    target_size=(150, 150),\n",
        "    batch_size=batch_size,\n",
        "    color_mode='grayscale')\n",
        "\n",
        "validation_generator = train_datagen.flow_from_directory(\n",
        "    'data/SET_A_BB_GF_validation',\n",
        "    target_size=(150, 150),\n",
        "    batch_size=batch_size,\n",
        "    color_mode='grayscale')\n",
        "\n",
        "model = Sequential()\n",
        "model.add(Flatten(input_shape=(150, 150, 1))) \n",
        "model.add(Dense(4))\n",
        "model.add(Dense(8))\n",
        "model.add(Dense(len(train_labels)))\n",
        "model.add(Activation('sigmoid'))\n",
        "\n",
        "model.compile(loss='categorical_crossentropy',\n",
        "              optimizer='adam',\n",
        "              metrics=['accuracy'])\n",
        "\n",
        "model.fit_generator(\n",
        "        train_generator,\n",
        "        steps_per_epoch=2000 // batch_size,\n",
        "        epochs=50,\n",
        "        validation_data=validation_generator,\n",
        "        validation_steps=20)"
      ],
      "execution_count": 0,
      "outputs": [
        {
          "output_type": "stream",
          "text": [
            "Found 2103 images belonging to 50 classes.\n",
            "Found 300 images belonging to 50 classes.\n",
            "Epoch 1/50\n",
            "62/62 [==============================] - 19s 301ms/step - loss: 4.0976 - acc: 0.0131 - val_loss: 4.0922 - val_acc: 0.0267\n",
            "Epoch 2/50\n",
            "62/62 [==============================] - 18s 295ms/step - loss: 4.0191 - acc: 0.0214 - val_loss: 3.9231 - val_acc: 0.0317\n",
            "Epoch 3/50\n",
            "62/62 [==============================] - 18s 284ms/step - loss: 3.9644 - acc: 0.0307 - val_loss: 3.9642 - val_acc: 0.0183\n",
            "Epoch 4/50\n",
            "62/62 [==============================] - 17s 273ms/step - loss: 4.0288 - acc: 0.0151 - val_loss: 3.8990 - val_acc: 0.0217\n",
            "Epoch 5/50\n",
            "29/62 [=============>................] - ETA: 4s - loss: 3.9001 - acc: 0.0312"
          ],
          "name": "stdout"
        },
        {
          "output_type": "stream",
          "text": [
            "62/62 [==============================] - 17s 278ms/step - loss: 3.9264 - acc: 0.0267 - val_loss: 3.8858 - val_acc: 0.0267\n",
            "Epoch 6/50\n",
            "62/62 [==============================] - 17s 274ms/step - loss: 3.8777 - acc: 0.0292 - val_loss: 3.8539 - val_acc: 0.0267\n",
            "Epoch 7/50\n",
            "62/62 [==============================] - 17s 279ms/step - loss: 3.8429 - acc: 0.0358 - val_loss: 3.9033 - val_acc: 0.0250\n",
            "Epoch 8/50\n",
            "62/62 [==============================] - 17s 275ms/step - loss: 3.8656 - acc: 0.0328 - val_loss: 3.8316 - val_acc: 0.0333\n",
            "Epoch 9/50\n",
            "62/62 [==============================] - 17s 273ms/step - loss: 3.8292 - acc: 0.0393 - val_loss: 3.8416 - val_acc: 0.0383\n",
            "Epoch 10/50\n",
            "18/62 [=======>......................] - ETA: 4s - loss: 3.8102 - acc: 0.0399"
          ],
          "name": "stdout"
        },
        {
          "output_type": "stream",
          "text": [
            "62/62 [==============================] - 17s 278ms/step - loss: 3.8207 - acc: 0.0388 - val_loss: 3.8232 - val_acc: 0.0183\n",
            "Epoch 11/50\n",
            "60/62 [============================>.] - ETA: 0s - loss: 3.8490 - acc: 0.0408"
          ],
          "name": "stdout"
        }
      ]
    },
    {
      "metadata": {
        "id": "ZAuVlUVHEDpB",
        "colab_type": "text"
      },
      "cell_type": "markdown",
      "source": [
        "## References\n",
        "\n",
        "#### Google Colab\n",
        "* [Colab Teaser](https://hackernoon.com/train-your-machine-learning-models-on-googles-gpus-for-free-forever-a41bd309d6ad)\n",
        "* [Simple Colab Example](https://towardsdatascience.com/fast-ai-lesson-1-on-google-colab-free-gpu-d2af89f53604)\n",
        "* [Extensive Colab Example](https://medium.com/deep-learning-turkey/google-colab-free-gpu-tutorial-e113627b9f5d)\n",
        "\n",
        "#### Gabor Filters\n",
        "* [Practical overview of Gabor Filters](https://cvtuts.wordpress.com/2014/04/27/gabor-filters-a-practical-overview/)\n",
        "* [Library for testing various filter configurations](http://nbviewer.jupyter.org/github/bicv/LogGabor/blob/master/LogGabor.ipynb)\n",
        "* [Example of applying OpenCV implementation in Python](https://gist.github.com/kendricktan/93f0da88d0b25087d751ed2244cf770c)\n",
        "* [Feature extraction in face recognition task](https://pdfs.semanticscholar.org/3cf9/e4bc906ee4d15b69b34db413f8e319692e3b.pdf)\n",
        "* [Feature extraction in car recognition task](http://scholar.google.pl/scholar_url?url=http://www.academia.edu/download/3448045/Car_recognition_using_gabor_filter_feature_extraction.doc&hl=pl&sa=X&scisig=AAGBfm2C3mPP89cH7bXDsFiXMDNPLIY27Q&nossl=1&oi=scholarr&ved=0ahUKEwizv5bdgdTaAhXEGuwKHXy-AY0QgAMIKSgCMAA)\n",
        "\n",
        "#### DNNs in Keras\n",
        "* [Keras documentation](https://keras.io/)"
      ]
    }
  ]
}