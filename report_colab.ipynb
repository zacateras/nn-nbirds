{
  "nbformat": 4,
  "nbformat_minor": 0,
  "metadata": {
    "colab": {
      "name": "report_colab.ipynb",
      "version": "0.3.2",
      "provenance": [],
      "collapsed_sections": []
    },
    "kernelspec": {
      "name": "python3",
      "display_name": "Python 3"
    },
    "accelerator": "GPU"
  },
 "cells": [
  {
   "cell_type": "markdown",
   "metadata": {
    "colab_type": "text",
    "id": "view-in-github"
   },
   "source": [
    "[View in Colaboratory](https://colab.research.google.com/github/zacateras/nn-nbirds/blob/master/report_colab.ipynb)"
   ]
  },
  {
   "cell_type": "code",
   "execution_count": null,
   "metadata": {},
   "outputs": [],
   "source": [
    "# If python3 is not loaded kill the hypervisor\n",
    "# ! kill -9 -1\n",
    "import sys\n",
    "sys.version"
   ]
  },
  {
   "cell_type": "code",
   "execution_count": null,
   "metadata": {},
   "outputs": [],
   "source": [
    "% cd ~\n",
    "\n",
    "# Remove the environment\n",
    "! if [ -d \"nn-nbirds\" ]; then rm -rf \"nn-nbirds\"; fi\n",
    "# ! pip freeze | xargs pip uninstall -y\n",
    "\n",
    "# Build the environment \n",
    "! git clone https://github.com/zacateras/nn-nbirds.git\n",
    "% cd ./nn-nbirds\n",
    "! pip install -r requirements.txt\n",
    "# Those below fixes the issue with keras @ Colab\n",
    "!pip install Pillow==4.0.0\n",
    "!pip install PIL\n",
    "!pip install image"
   ]
  },
  {
   "cell_type": "code",
   "execution_count": null,
   "metadata": {},
   "outputs": [],
   "source": [
    "import shutil\n",
    "import os\n",
    "import urllib\n",
    "import zipfile\n",
    "\n",
    "if os.path.exists('data') and os.path.isdir('data'):\n",
    "    shutil.rmtree('data')\n",
    "os.mkdir('data')\n",
    "\n",
    "# Download the dataset\n",
    "urllib.urlretrieve ('https://www.dropbox.com/s/fi2g3zxsn0pdmn1/nbirds.zip?dl=1', 'data/nbirds.zip')\n",
    "\n",
    "zip_ref = zipfile.ZipFile('data/nbirds.zip', 'r')\n",
    "zip_ref.extractall('data')\n",
    "zip_ref.close()\n",
    "\n",
    "os.remove('data/nbirds.zip')"
   ]
  },
  {
   "cell_type": "code",
   "execution_count": null,
   "metadata": {},
   "outputs": [],
   "source": [
    "from preprocess import *\n",
    "\n",
    "# preprocess and load txt ds metadata\n",
    "ds_meta = build_ds_meta()"
   ]
  },
  {
   "cell_type": "code",
   "execution_count": null,
   "metadata": {},
   "outputs": [],
   "source": [
    "for ds_meta_item in ds_meta:\n",
    "    print('Quantity of %s: %s' % (ds_meta_item, ds_meta[ds_meta_item].count()[0]))"
   ]
  },
  {
   "cell_type": "code",
   "execution_count": null,
   "metadata": {},
   "outputs": [],
   "source": [
    "# BASE               SET_A\n",
    "# + Bounding box  => SET_A_BB               (del)\n",
    "# + Gabor filter  => SET_A_BB_GF            (del)\n",
    "# + TVT splitting => SET_A_BB_GF_train\n",
    "#                    SET_A_BB_GF_validation\n",
    "#                    SET_A_BB_GF_test\n",
    "\n",
    "apply(bounding_box, 'data/SET_A', 'data/SET_A_BB', ds_meta)\n",
    "apply(lambda guid, img, dsm: gabor_filter(guid, greyscale(guid, resize(guid, img, dsm), dsm), dsm), 'data/SET_A_BB', 'data/SET_A_BB_GF', ds_meta)\n",
    "apply_tvt_split('data/SET_A_BB_GF')"
   ]
  },
  {
   "cell_type": "code",
   "execution_count": null,
   "metadata": {},
   "outputs": [],
   "source": [
    "import os\n",
    "\n",
    "from keras.preprocessing.image import ImageDataGenerator\n",
    "from keras.models import Sequential\n",
    "from keras.layers import Activation, Dropout, Flatten, Dense"
   ]
  },
  {
   "cell_type": "code",
   "execution_count": null,
   "metadata": {},
   "outputs": [],
   "source": [
    "import tensorflow as tf\n",
    "tf.test.gpu_device_name()"
   ]
  },
  {
   "cell_type": "code",
   "execution_count": null,
   "metadata": {},
   "outputs": [],
   "source": [
    "from tensorflow.python.client import device_lib\n",
    "device_lib.list_local_devices()"
   ]
  },
  {
   "cell_type": "code",
   "execution_count": null,
   "metadata": {},
   "outputs": [],
   "source": [
    "batch_size = 16\n",
    "\n",
    "train_labels = os.listdir('data/SET_A_BB_GF_train')\n",
    "\n",
    "train_datagen = ImageDataGenerator()\n",
    "\n",
    "train_generator = train_datagen.flow_from_directory(\n",
    "    'data/SET_A_BB_GF_train',\n",
    "    target_size=(150, 150),\n",
    "    batch_size=batch_size,\n",
    "    classes=train_labels)\n",
    "\n",
    "model = Sequential()\n",
    "model.add(Flatten(input_shape=(150, 150, 3))) \n",
    "model.add(Dense(256))\n",
    "model.add(Dense(512))\n",
    "model.add(Dense(len(train_labels)))\n",
    "model.add(Activation('sigmoid'))\n",
    "\n",
    "model.compile(loss='categorical_crossentropy',\n",
    "              optimizer='adam',\n",
    "              metrics=['accuracy'])\n",
    "\n",
    "model.fit_generator(\n",
    "        train_generator,\n",
    "        steps_per_epoch=2000 // batch_size,\n",
    "        epochs=50)"
   ]
  }
 ],
 "metadata": {
  "accelerator": "GPU",
  "celltoolbar": "Edit Metadata",
  "colab": {
   "collapsed_sections": [],
   "default_view": {},
   "name": "nn-nbirds.ipynb",
   "provenance": [],
   "version": "0.3.2",
   "views": {}
  },
  "kernelspec": {
   "display_name": "Python 3",
   "language": "python",
   "name": "python3"
  },
  "language_info": {
   "codemirror_mode": {
    "name": "ipython",
    "version": 2
   },
   "file_extension": ".py",
   "mimetype": "text/x-python",
   "name": "python",
   "nbconvert_exporter": "python",
   "pygments_lexer": "ipython2",
   "version": "2.7.12"
  }
 },
 "nbformat": 4,
 "nbformat_minor": 1
}
