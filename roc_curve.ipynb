{
  "nbformat": 4,
  "nbformat_minor": 0,
  "metadata": {
    "colab": {
      "name": "own_network.ipynb",
      "version": "0.3.2",
      "views": {},
      "default_view": {},
      "provenance": [],
      "collapsed_sections": []
    },
    "kernelspec": {
      "name": "python3",
      "display_name": "Python 3"
    },
    "accelerator": "GPU"
  },
  "cells": [
    {
      "cell_type": "markdown",
      "metadata": {
        "id": "view-in-github",
        "colab_type": "text"
      },
      "source": [
        "[View in Colaboratory](https://colab.research.google.com/github/zacateras/nn-nbirds/blob/master/roc_curve.ipynb)"
      ]
    },
    {
      "metadata": {
        "id": "UvFrie12LmWO",
        "colab_type": "code",
        "colab": {
          "autoexec": {
            "startup": false,
            "wait_interval": 0
          }
        }
      },
      "cell_type": "code",
      "source": [
        "# If python3 is not loaded kill the hypervisor\n",
        "# ! kill -9 -1\n",
        "import sys\n",
        "sys.version"
      ],
      "execution_count": 0,
      "outputs": []
    },
    {
      "metadata": {
        "id": "Wb6yct3-XdMd",
        "colab_type": "code",
        "colab": {
          "autoexec": {
            "startup": false,
            "wait_interval": 0
          }
        }
      },
      "cell_type": "code",
      "source": [
        "% cd ~\n",
        "\n",
        "# Remove the environment\n",
        "! if [ -d \"nn-nbirds\" ]; then rm -rf \"nn-nbirds\"; fi\n",
        "# ! pip freeze | xargs pip uninstall -y\n",
        "\n",
        "# Build the environment \n",
        "! git clone https://github.com/zacateras/nn-nbirds.git\n",
        "% cd ./nn-nbirds"
      ],
      "execution_count": 0,
      "outputs": []
    },
    {
      "metadata": {
        "id": "j8ESpbziYk61",
        "colab_type": "code",
        "colab": {
          "autoexec": {
            "startup": false,
            "wait_interval": 0
          }
        }
      },
      "cell_type": "code",
      "source": [
        "# Download the dataset\n",
        "! ./data_tools/download.sh\n",
        "! ./data_tools/split.sh"
      ],
      "execution_count": 0,
      "outputs": []
    },
    {
      "metadata": {
        "id": "h2rzamJxg582",
        "colab_type": "code",
        "colab": {
          "autoexec": {
            "startup": false,
            "wait_interval": 0
          }
        }
      },
      "cell_type": "code",
      "source": [
        "from preprocess import *"
      ],
      "execution_count": 0,
      "outputs": []
    },
    {
      "metadata": {
        "id": "-_E1Bck1hJnf",
        "colab_type": "code",
        "colab": {
          "autoexec": {
            "startup": false,
            "wait_interval": 0
          }
        }
      },
      "cell_type": "code",
      "source": [
        "ds_meta = build_ds_meta()\n",
        "\n",
        "for ds_meta_item in ds_meta:\n",
        "    print('Quantity of %s: %s' % (ds_meta_item, ds_meta[ds_meta_item].count()[0]))"
      ],
      "execution_count": 0,
      "outputs": []
    },
    {
      "metadata": {
        "id": "-POd5m4EiA7G",
        "colab_type": "code",
        "colab": {
          "autoexec": {
            "startup": false,
            "wait_interval": 0
          }
        }
      },
      "cell_type": "code",
      "source": [
        "class Transform:\n",
        "  def __init__(self, img, guid, ds_meta):\n",
        "    self.img = img\n",
        "    self.guid = guid\n",
        "    self.ds_meta = ds_meta\n",
        "  \n",
        "  def resize(self):\n",
        "      img = cv2.resize(self.img, (64, 64))\n",
        "      return self\n",
        "   \n",
        "    \n",
        "# BB + resize     => SET_A_RES_train\n",
        "#                    SET_A_RES_validation\n",
        "#                    SET_A_RES_test\n",
        "\n",
        "apply(bounding_box, 'data/SET_A_train', 'data/SET_A_BB_train', ds_meta)\n",
        "apply(bounding_box, 'data/SET_A_validation', 'data/SET_A_BB_validation', ds_meta)\n",
        "apply(bounding_box, 'data/SET_A_test', 'data/SET_A_BB_test', ds_meta)\n",
        "\n",
        "apply(lambda img, guid, dsm: Transform(img, guid, ds_meta).resize().img, 'data/SET_A_BB_train', 'data/SET_A_RES_train', ds_meta)\n",
        "apply(lambda img, guid, dsm: Transform(img, guid, ds_meta).resize().img, 'data/SET_A_BB_validation', 'data/SET_A_RES_validation', ds_meta)\n",
        "apply(lambda img, guid, dsm: Transform(img, guid, ds_meta).resize().img, 'data/SET_A_BB_test', 'data/SET_A_RES_test', ds_meta)"
      ],
      "execution_count": 0,
      "outputs": []
    },
    {
      "metadata": {
        "id": "Bg0yoHp1iF3-",
        "colab_type": "code",
        "colab": {
          "autoexec": {
            "startup": false,
            "wait_interval": 0
          }
        }
      },
      "cell_type": "code",
      "source": [
        "import os\n",
        "\n",
        "from keras.preprocessing.image import ImageDataGenerator\n",
        "from keras.models import Sequential\n",
        "from keras.layers import Activation, Dropout, Flatten, Dense, Conv2D, MaxPooling2D\n",
        "from keras import regularizers"
      ],
      "execution_count": 0,
      "outputs": []
    },
    {
      "metadata": {
        "id": "-Jysxv4d7DMK",
        "colab_type": "code",
        "colab": {
          "autoexec": {
            "startup": false,
            "wait_interval": 0
          }
        }
      },
      "cell_type": "code",
      "source": [
        "train_dir = 'data/SET_A_RES_train'\n",
        "validation_dir = 'data/SET_A_RES_validation'\n",
        "test_dir = 'data/SET_A_RES_test'\n",
        "no_of_classes = len(os.listdir('data/SET_A_RES_train'))\n",
        "\n",
        "batch_size = 128\n",
        "\n",
        "train_datagen = ImageDataGenerator(\n",
        "    rescale=1./255,\n",
        "    rotation_range=90,\n",
        "    width_shift_range=0.2,\n",
        "    height_shift_range=0.2)\n",
        "\n",
        "test_datagen = ImageDataGenerator(\n",
        "    rescale=1./255)\n",
        "\n",
        "test_generator = train_datagen.flow_from_directory(\n",
        "    test_dir,\n",
        "    target_size=(64, 64),\n",
        "    batch_size=batch_size,    \n",
        "    shuffle=False,\n",
        "    color_mode='rgb')"
      ],
      "execution_count": 0,
      "outputs": []
    },
    {
      "metadata": {
        "id": "kOSviLhVrWAw",
        "colab_type": "code",
        "colab": {
          "autoexec": {
            "startup": false,
            "wait_interval": 0
          },
          "base_uri": "https://localhost:8080/",
          "height": 376
        },
        "outputId": "35956b70-5f7b-4d69-cfed-1b1882992fbf",
        "executionInfo": {
          "status": "ok",
          "timestamp": 1528840874267,
          "user_tz": -120,
          "elapsed": 15641,
          "user": {
            "displayName": "",
            "photoUrl": "",
            "userId": ""
          }
        }
      },
      "cell_type": "code",
      "source": [
        "from sklearn.metrics import roc_curve, auc\n",
        "from sklearn import datasets\n",
        "from sklearn.multiclass import OneVsRestClassifier\n",
        "from sklearn.svm import LinearSVC\n",
        "from sklearn.preprocessing import label_binarize\n",
        "from sklearn.cross_validation import train_test_split\n",
        "import matplotlib.pyplot as plt\n",
        "import numpy as np\n",
        "from scipy import interp\n",
        "from itertools import cycle\n",
        "from keras.models import load_model\n",
        "\n",
        "# ********** change model to print ROC ****************\n",
        "model = load_model('cnn_models/cnn_512_descr_32_x_3_3_filt_128_batch_None_reg_120_epochs.h5')\n",
        "# ****************************************************\n",
        "\n",
        "\n",
        "lw = 2\n",
        "\n",
        "y_score = model.predict_generator(test_generator, verbose=0)\n",
        "y_test_v = test_generator.classes\n",
        "n_classes = 50\n",
        "\n",
        "y_test = np.zeros((len(y_test_v), n_classes))\n",
        "for i in range(0, len(y_test_v)):\n",
        "    y_test[i, y_test_v[i]] = 1\n",
        "\n",
        "# Compute ROC curve and ROC area for each class\n",
        "fpr = dict()\n",
        "tpr = dict()\n",
        "roc_auc = dict()\n",
        "for i in range(n_classes):\n",
        "    fpr[i], tpr[i], _ = roc_curve(y_test[:, i], y_score[:, i])\n",
        "    roc_auc[i] = auc(fpr[i], tpr[i])\n",
        "\n",
        "fpr[\"micro\"], tpr[\"micro\"], _ = roc_curve(y_test.ravel(), y_score.ravel())\n",
        "roc_auc[\"micro\"] = auc(fpr[\"micro\"], tpr[\"micro\"])   \n",
        "\n",
        "# Compute macro-average ROC curve and ROC area\n",
        "\n",
        "# First aggregate all false positive rates\n",
        "all_fpr = np.unique(np.concatenate([fpr[i] for i in range(n_classes)]))\n",
        "\n",
        "# Then interpolate all ROC curves at this points\n",
        "mean_tpr = np.zeros_like(all_fpr)\n",
        "for i in range(n_classes):\n",
        "    mean_tpr += interp(all_fpr, fpr[i], tpr[i])\n",
        "\n",
        "# Finally average it and compute AUC\n",
        "mean_tpr /= n_classes\n",
        "\n",
        "fpr[\"macro\"] = all_fpr\n",
        "tpr[\"macro\"] = mean_tpr\n",
        "roc_auc[\"macro\"] = auc(fpr[\"macro\"], tpr[\"macro\"])\n",
        "\n",
        "# Plot all ROC curves\n",
        "plt.figure()\n",
        "plt.plot(fpr[\"micro\"], tpr[\"micro\"],\n",
        "         label='micro-average ROC curve (area = {0:0.2f})'\n",
        "               ''.format(roc_auc[\"micro\"]),\n",
        "         color='deeppink', linestyle=':', linewidth=4)\n",
        "\n",
        "plt.plot(fpr[\"macro\"], tpr[\"macro\"],\n",
        "         label='macro-average ROC curve (area = {0:0.2f})'\n",
        "               ''.format(roc_auc[\"macro\"]),\n",
        "         color='navy', linestyle=':', linewidth=4)\n",
        "\n",
        "#draw_classes = 5\n",
        "#colors = cycle(['aqua', 'darkorange', 'cornflowerblue'])\n",
        "#for i, color in zip(range(draw_classes), colors):\n",
        "#    plt.plot(fpr[i], tpr[i], color=color, lw=lw,\n",
        "#             label='ROC curve of class {0} (area = {1:0.2f})'\n",
        "#             ''.format(i, roc_auc[i]))\n",
        "\n",
        "plt.plot([0, 1], [0, 1], 'k--', lw=lw)\n",
        "plt.xlim([0.0, 1.0])\n",
        "plt.ylim([0.0, 1.05])\n",
        "plt.xlabel('False Positive Rate')\n",
        "plt.ylabel('True Positive Rate')\n",
        "plt.title('Some extension of Receiver operating characteristic to multi-class')\n",
        "plt.legend(loc=\"lower right\")\n",
        "plt.show()"
      ],
      "execution_count": 102,
      "outputs": [
        {
          "output_type": "display_data",
          "data": {
            "image/png": "[encoded data removed]",
            "text/plain": [
              "<matplotlib.figure.Figure at 0x7fbb241db828>"
            ]
          },
          "metadata": {
            "tags": []
          }
        }
      ]
    }
  ]
}
